{
 "cells": [
  {
   "cell_type": "markdown",
   "metadata": {},
   "source": [
    "# Introductory applied machine learning (INFR10069)"
   ]
  },
  {
   "cell_type": "markdown",
   "metadata": {},
   "source": [
    "# Assignment 3: Object recognition"
   ]
  },
  {
   "cell_type": "markdown",
   "metadata": {},
   "source": [
    "## Marking Breakdown\n",
    "\n",
    "**70-100%** results/answer correct plus extra achievement at understanding or analysis of results. Clear explanations, evidence of creative or deeper thought will contribute to a higher grade.\n",
    "\n",
    "**60-69%** results/answer correct or nearly correct and well explained.\n",
    "\n",
    "**50-59%** results/answer in right direction but significant errors.\n",
    "\n",
    "**40-49%** some evidence that the student has gained some understanding, but not answered the questions\n",
    "properly.\n",
    "\n",
    "**0-39%** serious error or slack work."
   ]
  },
  {
   "cell_type": "markdown",
   "metadata": {},
   "source": [
    "## Mechanics\n",
    "\n",
    "You should produce a Jupyter notebook and a `.txt` file (see Part 2) in answer to this assignment.\n",
    "**You need to submit these two files electronically as described below.**\n",
    "\n",
    "Place your notebook and `.txt` files **only** in a directory called `iamlans` and submit this directory using the submit command on a DICE machine. The format is:\n",
    "\n",
    "`submit iaml 3 iamlans`\n",
    "\n",
    "You can check the status of your submissions with the `show_submissions` command.\n",
    "\n",
    "**Late submissions:** The policy stated in the School of Informatics MSc Degree Guide is that normally you will not be allowed to submit coursework late. See http://www.inf.ed.ac.uk/teaching/years/msc/courseguide10.html#exam for exceptions to this, e.g. in case of serious medical illness or serious personal problems.\n",
    "\n",
    "**Collaboration:** You may discuss the assignment with your colleagues, provided that the writing that you submit is entirely your own. That is, you should NOT borrow actual text or code from other students. We ask that you provide a list of the people who you've had discussions with (if any).\n"
   ]
  },
  {
   "cell_type": "markdown",
   "metadata": {},
   "source": [
    "## Important Instructions\n",
    "\n",
    "1. In the following questions you are asked to run experiments using Python (version 2.7) and the following packages:\n",
    "    * Numpy\n",
    "    * Pandas\n",
    "    * Scikit-learn 0.17\n",
    "    * Matplotlib\n",
    "    * Seaborn\n",
    "\n",
    "2. Before you start make sure you have set up a vitual environment (or conda environment if you are working on your own machine) and the required packages installed. Instructions on how to set-up the working enviornment and install the required packages can be found in `01_Lab_1_Introduction`.\n",
    "\n",
    "3. Wherever you are required to produce code you should use code cells, otherwise you should use markdown cells to report results and explain answers.\n",
    "\n",
    "4. The .csv files that you will be using are located at `./datasets` (the `datasets` directory is adjacent to this file).\n",
    "\n",
    "5. **IMPORTANT:** Keep your answers brief and concise. Most questions can be answered with 2-3 lines of explanation (excluding coding questions), unless stated otherwise."
   ]
  },
  {
   "cell_type": "markdown",
   "metadata": {},
   "source": [
    "## Imports\n",
    "\n",
    "In this assignment you are asked to import all the packages and modules you will need. Include all required imports and execute the cell below."
   ]
  },
  {
   "cell_type": "code",
   "execution_count": 7,
   "metadata": {
    "collapsed": false
   },
   "outputs": [
    {
     "ename": "ImportError",
     "evalue": "No module named seaborn",
     "output_type": "error",
     "traceback": [
      "\u001b[0;31m---------------------------------------------------------------------------\u001b[0m",
      "\u001b[0;31mImportError\u001b[0m                               Traceback (most recent call last)",
      "\u001b[0;32m<ipython-input-7-0446910fbaf5>\u001b[0m in \u001b[0;36m<module>\u001b[0;34m()\u001b[0m\n\u001b[1;32m      7\u001b[0m \u001b[0;32mimport\u001b[0m \u001b[0mpandas\u001b[0m \u001b[0;32mas\u001b[0m \u001b[0mpd\u001b[0m\u001b[0;34m\u001b[0m\u001b[0m\n\u001b[1;32m      8\u001b[0m \u001b[0;32mimport\u001b[0m \u001b[0mmatplotlib\u001b[0m\u001b[0;34m.\u001b[0m\u001b[0mpyplot\u001b[0m \u001b[0;32mas\u001b[0m \u001b[0mplt\u001b[0m\u001b[0;34m\u001b[0m\u001b[0m\n\u001b[0;32m----> 9\u001b[0;31m \u001b[0;32mimport\u001b[0m \u001b[0mseaborn\u001b[0m \u001b[0;32mas\u001b[0m \u001b[0msns\u001b[0m\u001b[0;34m\u001b[0m\u001b[0m\n\u001b[0m\u001b[1;32m     10\u001b[0m \u001b[0;32mfrom\u001b[0m \u001b[0msklearn\u001b[0m\u001b[0;34m.\u001b[0m\u001b[0mlinear_model\u001b[0m \u001b[0;32mimport\u001b[0m \u001b[0mLogisticRegression\u001b[0m\u001b[0;34m\u001b[0m\u001b[0m\n\u001b[1;32m     11\u001b[0m \u001b[0;32mfrom\u001b[0m \u001b[0msklearn\u001b[0m \u001b[0;32mimport\u001b[0m \u001b[0mpreprocessing\u001b[0m\u001b[0;34m\u001b[0m\u001b[0m\n",
      "\u001b[0;31mImportError\u001b[0m: No module named seaborn"
     ]
    }
   ],
   "source": [
    "from __future__ import print_function, division\n",
    "%matplotlib inline\n",
    "\n",
    "# Your code goes here\n",
    "import os\n",
    "import numpy as np \n",
    "import pandas as pd\n",
    "import matplotlib.pyplot as plt\n",
    "import seaborn as sns\n",
    "from sklearn.linear_model import LogisticRegression\n",
    "from sklearn import preprocessing\n",
    "from sklearn.cross_validation import KFold\n",
    "from sklearn.metrics import accuracy_score\n",
    "from sklearn.ensemble import RandomForestClassifier\n",
    "from sklearn.linear_model import LogisticRegressionCV\n",
    "from sklearn.svm import SVC"
   ]
  },
  {
   "cell_type": "markdown",
   "metadata": {},
   "source": [
    "## Description of the dataset\n",
    "In this assignment our goal is to recognize objects from 19 di\u000b",
    "erent visual classes (e.g. person, dog, cat, car, ...) in realistic scenes. The dataset consists of several thousands photographs harvested from the web. Each object of a relevant class has been manually annotated with a bounding box. Images can contain none, one or multiple objects of each class. We have prepared a [website](http://www.inf.ed.ac.uk/teaching/courses/iaml/2014/assts/asst3/images.html) where you can view the images.\n",
    "\n",
    "Here we will focus on a single classiffication task: you will be required to classify images as to whether or not they contain a person. To save you time and to make the problem manageable with limited computational resources, we have preprocessed the dataset. We will use the [Bag of Visual Words](https://en.wikipedia.org/wiki/Bag-of-words_model_in_computer_vision) representation. That is, each image is represented by a 500 dimensional vector that contains the normalized count for each of 500 diffeerent visual words present in the respective image (a similar representation is used for the spambase dataset, just for real words). Visual words are based on [Scale-invariant feature transforms (SIFT)](https://en.wikipedia.org/wiki/Scale-invariant_feature_transform). SIFT features are essentially local orientation histograms and capture the properties of small image regions. They possess attractive invariance properties which make them well suited for our task (you can read more about SIFT features in [D.Lowe, IJCV 60(2):91- 110, 2004](http://link.springer.com/article/10.1023/B:VISI.0000029664.99615.94), but the details don't matter for the purpose of this assignment). Each SIFT feature is a 128 dimensional vector. From each image many SIFT features are extracted, typically > 2500 per image (features are extracted at regular intervals using a 15 pixel grid and at 4 different scales). To obtain visual words a representative subset of all extracted SIFT features from all images is chosen and clustered with k-means using 500 centres (such use of the k-means algorithm will be discussed in detail during the lecture). These 500 cluster centres form our visual words. The representation of a single image is obtained by first assigning each SIFT feature extracted from the image to the appropriate cluster (i.e. we determine the visual word corresponding to each feature by picking the closest cluster centre). We then count the number of features from that image assigned to each cluster (i.e. we determine how often each visual word is present in the image). This results in a 500 dimensional count vector for each image (one dimension for each visual word). The normalized version of this count vector gives the final representation of the image (normalized means that we divide the count vector by the total number of visual words in the image, i.e. the normalized counts sum to 1 for each image). Our dataset with all images is thus a $N \\times 500$ dimensional matrix where `N` is the number of images. The resulting representation is much more compact and can be used directly to perform classiffication.\n",
    "\n",
    "The full dataset has 520 attributes (dimensions). The first attribute (`imgID`) contains the image ID which allows you to associate a data point with an actual image. The next 500 attributes (`dim1`, ..., `dim500`) correspond to the normalized count vector. The last 19 attributes (`is_class`) indicate the presence of at least one object of a particular class in the image. In most of the experiments (unless explicitly noted otherwise) you will be asked to train classiffiers for classifying person vs. non-person images and only the `is_person` attribute and the 500 dimensional feature vector will be used. Do not use the additional class indicator attributes as features unless explicitly told to do so. \n",
    "\n",
    "In Part A we provide you with a training (`train_images partA.csv`) and a validation (`valid_images partA .csv`) dataset. In Part B we provide three data sets: a training set (`train_images partB.csv`), a validation set (`valid_images partB.csv`), and a test set (`test_images partB.csv`). The training and validation set contain valid labels. In the test set the labels are missing. The files are available from the GitHub repository. \n",
    "\n",
    "*Important: Throughout the assignment you will be given various versions of the dataset that are relevant\n",
    "to a particular question. Please be careful to use the correct version of the dataset when instructed to do so.\n",
    "If you use the wrong version of the dataset by mistake no marks will be awarded.*"
   ]
  },
  {
   "cell_type": "markdown",
   "metadata": {},
   "source": [
    "## 1. Exploration of the dataset [70%]"
   ]
  },
  {
   "cell_type": "markdown",
   "metadata": {},
   "source": [
    "### ========== Question 1.1 ==========\n",
    "Load the datasets `train_images_partA.csv` and `valid_images_partA.csv` into two pandas DataFrame called `train_A` and `valid_A`. Display the number of data points and attributes in each of the two datasets."
   ]
  },
  {
   "cell_type": "code",
   "execution_count": 2,
   "metadata": {
    "collapsed": false
   },
   "outputs": [
    {
     "name": "stdout",
     "output_type": "stream",
     "text": [
      "Number of instances of train_A: 2093, number of attributes: 520\n",
      "Number of instances of valid_A: 2093, number of attributes: 520\n"
     ]
    }
   ],
   "source": [
    "# Your code goes here\n",
    "data_path = os.path.join(os.getcwd(), 'datasets', 'train_images_partA.csv')\n",
    "train_A = pd.read_csv(data_path, delimiter = ',')\n",
    "data_path_2 = os.path.join(os.getcwd(), 'datasets', 'valid_images_partA.csv')\n",
    "valid_A = pd.read_csv(data_path, delimiter = ',')\n",
    "\n",
    "print('Number of instances of train_A: {}, number of attributes: {}'.format(train_A.shape[0], train_A.shape[1]))\n",
    "print('Number of instances of valid_A: {}, number of attributes: {}'.format(valid_A.shape[0], valid_A.shape[1]))\n"
   ]
  },
  {
   "cell_type": "markdown",
   "metadata": {},
   "source": [
    "### ========== Question 1.2 ==========\n",
    "Display and inspect the first 10 instances in the training dataset."
   ]
  },
  {
   "cell_type": "code",
   "execution_count": 3,
   "metadata": {
    "collapsed": false
   },
   "outputs": [
    {
     "name": "stdout",
     "output_type": "stream",
     "text": [
      "<class 'pandas.core.frame.DataFrame'>\n",
      "RangeIndex: 2093 entries, 0 to 2092\n",
      "Columns: 520 entries, imgId to is_tvmonitor\n",
      "dtypes: float64(495), int64(24), object(1)\n",
      "memory usage: 8.3+ MB\n"
     ]
    }
   ],
   "source": [
    "# Your code goes here\n",
    "train_A.head(10)\n",
    "train_A.info()"
   ]
  },
  {
   "cell_type": "markdown",
   "metadata": {},
   "source": [
    "### ========== Question 1.3 ==========\n",
    "In this part we want to select the appopriate attributes (i.e. input features) for training our classifiers. These should be the attributes `dim1, dim2, ..., dim500`. Create a list which has as elements the **names** of the attributes of interest. "
   ]
  },
  {
   "cell_type": "code",
   "execution_count": 4,
   "metadata": {
    "collapsed": false
   },
   "outputs": [
    {
     "name": "stdout",
     "output_type": "stream",
     "text": [
      "['dim1', 'dim2', 'dim3', 'dim4', 'dim5', 'dim6', 'dim7', 'dim8', 'dim9', 'dim10', 'dim11', 'dim12', 'dim13', 'dim14', 'dim15', 'dim16', 'dim17', 'dim18', 'dim19', 'dim20', 'dim21', 'dim22', 'dim23', 'dim24', 'dim25', 'dim26', 'dim27', 'dim28', 'dim29', 'dim30', 'dim31', 'dim32', 'dim33', 'dim34', 'dim35', 'dim36', 'dim37', 'dim38', 'dim39', 'dim40', 'dim41', 'dim42', 'dim43', 'dim44', 'dim45', 'dim46', 'dim47', 'dim48', 'dim49', 'dim50', 'dim51', 'dim52', 'dim53', 'dim54', 'dim55', 'dim56', 'dim57', 'dim58', 'dim59', 'dim60', 'dim61', 'dim62', 'dim63', 'dim64', 'dim65', 'dim66', 'dim67', 'dim68', 'dim69', 'dim70', 'dim71', 'dim72', 'dim73', 'dim74', 'dim75', 'dim76', 'dim77', 'dim78', 'dim79', 'dim80', 'dim81', 'dim82', 'dim83', 'dim84', 'dim85', 'dim86', 'dim87', 'dim88', 'dim89', 'dim90', 'dim91', 'dim92', 'dim93', 'dim94', 'dim95', 'dim96', 'dim97', 'dim98', 'dim99', 'dim100', 'dim101', 'dim102', 'dim103', 'dim104', 'dim105', 'dim106', 'dim107', 'dim108', 'dim109', 'dim110', 'dim111', 'dim112', 'dim113', 'dim114', 'dim115', 'dim116', 'dim117', 'dim118', 'dim119', 'dim120', 'dim121', 'dim122', 'dim123', 'dim124', 'dim125', 'dim126', 'dim127', 'dim128', 'dim129', 'dim130', 'dim131', 'dim132', 'dim133', 'dim134', 'dim135', 'dim136', 'dim137', 'dim138', 'dim139', 'dim140', 'dim141', 'dim142', 'dim143', 'dim144', 'dim145', 'dim146', 'dim147', 'dim148', 'dim149', 'dim150', 'dim151', 'dim152', 'dim153', 'dim154', 'dim155', 'dim156', 'dim157', 'dim158', 'dim159', 'dim160', 'dim161', 'dim162', 'dim163', 'dim164', 'dim165', 'dim166', 'dim167', 'dim168', 'dim169', 'dim170', 'dim171', 'dim172', 'dim173', 'dim174', 'dim175', 'dim176', 'dim177', 'dim178', 'dim179', 'dim180', 'dim181', 'dim182', 'dim183', 'dim184', 'dim185', 'dim186', 'dim187', 'dim188', 'dim189', 'dim190', 'dim191', 'dim192', 'dim193', 'dim194', 'dim195', 'dim196', 'dim197', 'dim198', 'dim199', 'dim200', 'dim201', 'dim202', 'dim203', 'dim204', 'dim205', 'dim206', 'dim207', 'dim208', 'dim209', 'dim210', 'dim211', 'dim212', 'dim213', 'dim214', 'dim215', 'dim216', 'dim217', 'dim218', 'dim219', 'dim220', 'dim221', 'dim222', 'dim223', 'dim224', 'dim225', 'dim226', 'dim227', 'dim228', 'dim229', 'dim230', 'dim231', 'dim232', 'dim233', 'dim234', 'dim235', 'dim236', 'dim237', 'dim238', 'dim239', 'dim240', 'dim241', 'dim242', 'dim243', 'dim244', 'dim245', 'dim246', 'dim247', 'dim248', 'dim249', 'dim250', 'dim251', 'dim252', 'dim253', 'dim254', 'dim255', 'dim256', 'dim257', 'dim258', 'dim259', 'dim260', 'dim261', 'dim262', 'dim263', 'dim264', 'dim265', 'dim266', 'dim267', 'dim268', 'dim269', 'dim270', 'dim271', 'dim272', 'dim273', 'dim274', 'dim275', 'dim276', 'dim277', 'dim278', 'dim279', 'dim280', 'dim281', 'dim282', 'dim283', 'dim284', 'dim285', 'dim286', 'dim287', 'dim288', 'dim289', 'dim290', 'dim291', 'dim292', 'dim293', 'dim294', 'dim295', 'dim296', 'dim297', 'dim298', 'dim299', 'dim300', 'dim301', 'dim302', 'dim303', 'dim304', 'dim305', 'dim306', 'dim307', 'dim308', 'dim309', 'dim310', 'dim311', 'dim312', 'dim313', 'dim314', 'dim315', 'dim316', 'dim317', 'dim318', 'dim319', 'dim320', 'dim321', 'dim322', 'dim323', 'dim324', 'dim325', 'dim326', 'dim327', 'dim328', 'dim329', 'dim330', 'dim331', 'dim332', 'dim333', 'dim334', 'dim335', 'dim336', 'dim337', 'dim338', 'dim339', 'dim340', 'dim341', 'dim342', 'dim343', 'dim344', 'dim345', 'dim346', 'dim347', 'dim348', 'dim349', 'dim350', 'dim351', 'dim352', 'dim353', 'dim354', 'dim355', 'dim356', 'dim357', 'dim358', 'dim359', 'dim360', 'dim361', 'dim362', 'dim363', 'dim364', 'dim365', 'dim366', 'dim367', 'dim368', 'dim369', 'dim370', 'dim371', 'dim372', 'dim373', 'dim374', 'dim375', 'dim376', 'dim377', 'dim378', 'dim379', 'dim380', 'dim381', 'dim382', 'dim383', 'dim384', 'dim385', 'dim386', 'dim387', 'dim388', 'dim389', 'dim390', 'dim391', 'dim392', 'dim393', 'dim394', 'dim395', 'dim396', 'dim397', 'dim398', 'dim399', 'dim400', 'dim401', 'dim402', 'dim403', 'dim404', 'dim405', 'dim406', 'dim407', 'dim408', 'dim409', 'dim410', 'dim411', 'dim412', 'dim413', 'dim414', 'dim415', 'dim416', 'dim417', 'dim418', 'dim419', 'dim420', 'dim421', 'dim422', 'dim423', 'dim424', 'dim425', 'dim426', 'dim427', 'dim428', 'dim429', 'dim430', 'dim431', 'dim432', 'dim433', 'dim434', 'dim435', 'dim436', 'dim437', 'dim438', 'dim439', 'dim440', 'dim441', 'dim442', 'dim443', 'dim444', 'dim445', 'dim446', 'dim447', 'dim448', 'dim449', 'dim450', 'dim451', 'dim452', 'dim453', 'dim454', 'dim455', 'dim456', 'dim457', 'dim458', 'dim459', 'dim460', 'dim461', 'dim462', 'dim463', 'dim464', 'dim465', 'dim466', 'dim467', 'dim468', 'dim469', 'dim470', 'dim471', 'dim472', 'dim473', 'dim474', 'dim475', 'dim476', 'dim477', 'dim478', 'dim479', 'dim480', 'dim481', 'dim482', 'dim483', 'dim484', 'dim485', 'dim486', 'dim487', 'dim488', 'dim489', 'dim490', 'dim491', 'dim492', 'dim493', 'dim494', 'dim495', 'dim496', 'dim497', 'dim498', 'dim499', 'dim500']\n"
     ]
    }
   ],
   "source": [
    "# Your code goes here\n",
    "names = list(train_A.columns[1:501])\n",
    "print(names)"
   ]
  },
  {
   "cell_type": "markdown",
   "metadata": {},
   "source": [
    "### ========== Question 1.4 --- [1 mark] ==========\n",
    "By using the list from Question 1.3 now create 4 numpy arrays `X_tr`, `X_val`, `y_tr` and `y_val` and store the training features, validation features, training targets, and validation targets, respectively. Your target vectors should correspond to the `is_person` attribute of the training and validation sets (also make sure you do not include this attribute in your training features). Display the dimensionalities (i.e shapes) of the 4 arrays and make sure your input data are 500-dimensional."
   ]
  },
  {
   "cell_type": "code",
   "execution_count": 5,
   "metadata": {
    "collapsed": false
   },
   "outputs": [
    {
     "name": "stdout",
     "output_type": "stream",
     "text": [
      "(2093, 500)\n",
      "(2093, 500)\n",
      "(2093,)\n",
      "(2093,)\n"
     ]
    }
   ],
   "source": [
    "# Your code goes here\n",
    "X_tr, X_val, y_tr, y_val = train_A[names], valid_A[names], train_A[\"is_person\"], valid_A[\"is_person\"]\n",
    "print(X_tr.shape)\n",
    "print(X_val.shape)\n",
    "print(y_tr.shape)\n",
    "print(y_val.shape)"
   ]
  },
  {
   "cell_type": "markdown",
   "metadata": {},
   "source": [
    "### ========== Question 1.5 ==========\n",
    "Show two [countplots](https://seaborn.github.io/generated/seaborn.countplot.html?highlight=countplot#seaborn.countplot) of the targets in a single plot, one for the training and one for the validation set. Label axes appropriately and add a title to your plot. Use descriptive `xticklabels` instead of the default numeric ones."
   ]
  },
  {
   "cell_type": "code",
   "execution_count": 6,
   "metadata": {
    "collapsed": false
   },
   "outputs": [
    {
     "ename": "NameError",
     "evalue": "name 'sns' is not defined",
     "output_type": "error",
     "traceback": [
      "\u001b[0;31m---------------------------------------------------------------------------\u001b[0m",
      "\u001b[0;31mNameError\u001b[0m                                 Traceback (most recent call last)",
      "\u001b[0;32m<ipython-input-6-07f18c64845c>\u001b[0m in \u001b[0;36m<module>\u001b[0;34m()\u001b[0m\n\u001b[1;32m      1\u001b[0m \u001b[0;31m# Your code goes here\u001b[0m\u001b[0;34m\u001b[0m\u001b[0;34m\u001b[0m\u001b[0m\n\u001b[0;32m----> 2\u001b[0;31m \u001b[0max\u001b[0m \u001b[0;34m=\u001b[0m \u001b[0msns\u001b[0m\u001b[0;34m.\u001b[0m\u001b[0mcountplot\u001b[0m\u001b[0;34m(\u001b[0m\u001b[0mx\u001b[0m \u001b[0;34m=\u001b[0m \u001b[0my_tr\u001b[0m\u001b[0;34m)\u001b[0m\u001b[0;34m\u001b[0m\u001b[0m\n\u001b[0m\u001b[1;32m      3\u001b[0m \u001b[0max_2\u001b[0m \u001b[0;34m=\u001b[0m \u001b[0msns\u001b[0m\u001b[0;34m.\u001b[0m\u001b[0mcountplot\u001b[0m\u001b[0;34m(\u001b[0m\u001b[0mx\u001b[0m \u001b[0;34m=\u001b[0m \u001b[0my_val\u001b[0m\u001b[0;34m)\u001b[0m\u001b[0;34m\u001b[0m\u001b[0m\n\u001b[1;32m      4\u001b[0m \u001b[0max_2\u001b[0m\u001b[0;34m.\u001b[0m\u001b[0mset_xticklabels\u001b[0m\u001b[0;34m(\u001b[0m\u001b[0;34m[\u001b[0m\u001b[0;34m\"No person\"\u001b[0m\u001b[0;34m,\u001b[0m \u001b[0;34m\"person\"\u001b[0m\u001b[0;34m]\u001b[0m\u001b[0;34m)\u001b[0m\u001b[0;34m\u001b[0m\u001b[0m\n\u001b[1;32m      5\u001b[0m \u001b[0max_2\u001b[0m\u001b[0;34m.\u001b[0m\u001b[0mset_title\u001b[0m\u001b[0;34m(\u001b[0m\u001b[0;34m\"Target Data\"\u001b[0m\u001b[0;34m)\u001b[0m\u001b[0;34m\u001b[0m\u001b[0m\n",
      "\u001b[0;31mNameError\u001b[0m: name 'sns' is not defined"
     ]
    }
   ],
   "source": [
    "# Your code goes here\n",
    "ax = sns.countplot(x = y_tr)\n",
    "ax_2 = sns.countplot(x = y_val)\n",
    "ax_2.set_xticklabels([\"No person\", \"person\"])\n",
    "ax_2.set_title(\"Target Data\")"
   ]
  },
  {
   "cell_type": "markdown",
   "metadata": {},
   "source": [
    "### ========== Question 1.6 ==========\n",
    "What would be a good choice for a baseline classifier to compare your results in the next steps against? What classification accuracy score does the baseline classifier achieve in the validation set?"
   ]
  },
  {
   "cell_type": "markdown",
   "metadata": {},
   "source": [
    "A good choice for the baseline classifier is a Dummy Classifier. The classification accuracy is very low for the validation set because it is a classifier that is used to compare results better classifiers. \n",
    "\n"
   ]
  },
  {
   "cell_type": "code",
   "execution_count": 137,
   "metadata": {
    "collapsed": false
   },
   "outputs": [
    {
     "data": {
      "text/plain": [
       "0.51218346870520781"
      ]
     },
     "execution_count": 137,
     "metadata": {},
     "output_type": "execute_result"
    }
   ],
   "source": [
    "# Your code goes here\n",
    "from sklearn.dummy import DummyClassifier\n",
    "dc = DummyClassifier()\n",
    "dc.fit(X_tr, y_tr)\n",
    "dc.score(X_val, y_val)"
   ]
  },
  {
   "cell_type": "markdown",
   "metadata": {},
   "source": [
    "### ========== Question 1.7 ==========\n",
    "Train a [`LogisticRegression`](http://scikit-learn.org/0.17/modules/generated/sklearn.linear_model.LogisticRegression.html) classifier by using default settings, except for the `solver` parameter which you should set to `lbfgs`. Report the classification accuracy score in the training and validation sets and compare to that of the baseline classifier. Comment in 1-2 sentences the results. You may include any additional plot(s) if you wish to justify your explanation."
   ]
  },
  {
   "cell_type": "code",
   "execution_count": 8,
   "metadata": {
    "collapsed": false
   },
   "outputs": [
    {
     "name": "stdout",
     "output_type": "stream",
     "text": [
      "Classification accuracy on training set: 0.551\n",
      "Classification accuracy on validation set: 0.551\n"
     ]
    }
   ],
   "source": [
    "lr = LogisticRegression(solver='lbfgs')\n",
    "lr.fit(X_tr, y_tr)\n",
    "lr.fit(X_val, y_val)\n",
    "print('Classification accuracy on training set: {:.3f}'.format(lr.score(X_tr, y_tr)))\n",
    "print('Classification accuracy on validation set: {:.3f}'.format(lr.score(X_val, y_val)))"
   ]
  },
  {
   "cell_type": "markdown",
   "metadata": {},
   "source": [
    "The Logistic Regression classifier has a better accuracy than the baseline, which is as expected. However, the accuracy still is not great.\n",
    "\n",
    " "
   ]
  },
  {
   "cell_type": "markdown",
   "metadata": {},
   "source": [
    "### ========== Question 1.8 ==========\n",
    "Display the means and standard deviations of the first 5 features in the training set. *Hint: you want to compute the means and standard deviations across the columns of your arrays. Make sure you make appropriate use of the `axis` parameter.*"
   ]
  },
  {
   "cell_type": "code",
   "execution_count": 9,
   "metadata": {
    "collapsed": false
   },
   "outputs": [
    {
     "name": "stdout",
     "output_type": "stream",
     "text": [
      "Training set mean:\n",
      "0    0.005780\n",
      "1    0.003854\n",
      "2    0.003854\n",
      "3    0.007707\n",
      "4    0.003854\n",
      "dtype: float64\n",
      "Training set standard deviation\n",
      "0    0.061921\n",
      "1    0.043843\n",
      "2    0.043870\n",
      "3    0.075756\n",
      "4    0.043863\n",
      "dtype: float64\n"
     ]
    }
   ],
   "source": [
    "# Your code goes here\n",
    "\n",
    "np.set_printoptions(precision=3)\n",
    "print(\"Training set mean:\")\n",
    "print(train_A[0:5].mean(axis=1))\n",
    "print(\"Training set standard deviation\")\n",
    "print(valid_A[0:5].std(axis=1))"
   ]
  },
  {
   "cell_type": "markdown",
   "metadata": {},
   "source": [
    "### ========== Question 1.9 ==========\n",
    "Feature standardisation is a pre-processing technique used to transform data so that they have zero mean and unit standard deviation. For many algorithms, this is a very important step for training models (both regression and classification). Read about [feature standardisation](http://scikit-learn.org/0.17/modules/preprocessing.html) and make sure you understand what kind of transformation this method applies to the data.\n",
    "\n",
    "`Scikit-learn` offers an [implementation](http://scikit-learn.org/0.17/modules/generated/sklearn.preprocessing.StandardScaler.html) of feature standardisation. Create a standardiser and fit it by using training features only. Then transform both your input and validation input features. \n",
    "\n",
    "Once your training and validation input data have been transformed, display the means and standard deviations of the first 5 attributes for **both** the training and validation sets. Are the results as you expected? Explain your answer in 2-3 sentences. \n",
    "\n",
    "**IMPORTANT: You should use the transformed data for the rest of part A**."
   ]
  },
  {
   "cell_type": "code",
   "execution_count": 10,
   "metadata": {
    "collapsed": false
   },
   "outputs": [
    {
     "name": "stdout",
     "output_type": "stream",
     "text": [
      "Training set mean:\n",
      "[ 0.043  0.095  0.044  0.043 -0.014]\n",
      "Training set standard deviation\n",
      "[ 0.781  0.909  1.035  0.901  0.858]\n",
      "Validation set mean:\n",
      "[ 0.043  0.095  0.044  0.043 -0.014]\n",
      "Validation set standard deviation\n",
      "[ 0.781  0.909  1.035  0.901  0.858]\n"
     ]
    }
   ],
   "source": [
    "\n",
    "scaler = preprocessing.StandardScaler().fit(X_tr)\n",
    "X_tr_trans = (scaler.transform(X_tr))\n",
    "X_val_trans = (scaler.transform(X_val))\n",
    "print(\"Training set mean:\")\n",
    "print(X_tr_trans[0:5].mean(axis=1))\n",
    "print(\"Training set standard deviation\")\n",
    "print(X_tr_trans[0:5].std(axis=1))\n",
    "\n",
    "print(\"Validation set mean:\")\n",
    "print(X_val_trans[0:5].mean(axis=1))\n",
    "print(\"Validation set standard deviation\")\n",
    "print(X_val_trans[0:5].std(axis=1))"
   ]
  },
  {
   "cell_type": "markdown",
   "metadata": {},
   "source": [
    "I expected the training set to have a very low value close to 0, so more negative exponents. I think the standard deviation was pretty close. It is supposed to be very close to 1. \n"
   ]
  },
  {
   "cell_type": "markdown",
   "metadata": {},
   "source": [
    "### ========== Question 1.10 ==========\n",
    "By using the transformed input data, retrain a `LogisticRegression` classifier. Again, set the `solver` parameter to `lbfgs` and use default settings for the other parameters. Report the classification accuracy in both the training and validation sets. How does your model compare to the baseline classifier from Question 1.6? You may use additional plot(s) to support your explanation."
   ]
  },
  {
   "cell_type": "code",
   "execution_count": 11,
   "metadata": {
    "collapsed": false
   },
   "outputs": [
    {
     "name": "stdout",
     "output_type": "stream",
     "text": [
      "Classification accuracy on training set: 0.811\n",
      "Classification accuracy on validation set: 0.811\n"
     ]
    }
   ],
   "source": [
    "# Your code goes here\n",
    "lr = LogisticRegression(solver='lbfgs')\n",
    "lr.fit(X_tr_trans, y_tr)\n",
    "lr.fit(X_val_trans, y_val)\n",
    "print('Classification accuracy on training set: {:.3f}'.format(lr.score(X_tr_trans, y_tr)))\n",
    "print('Classification accuracy on validation set: {:.3f}'.format(lr.score(X_val_trans, y_val)))"
   ]
  },
  {
   "cell_type": "markdown",
   "metadata": {},
   "source": [
    "This classification accuracy is much better than the baseline classifier. \n",
    "\n"
   ]
  },
  {
   "cell_type": "markdown",
   "metadata": {},
   "source": [
    "### ========== Question 1.11 ==========\n",
    "So far we have used default settings for training the logistic regression classifier. Now, we want to use [K-fold cross-validation](http://scikit-learn.org/0.17/modules/generated/sklearn.cross_validation.KFold.html) to optimise the regularisation parameter `C`. The regularisation parameter controls the degree to which we wish to penalise large magnitudes for the weight vector. Thus, it helps us prevent overfitting and, for logistic regression, it additionally controls the level of confidence in making predictions.\n",
    "\n",
    "We would like to optimise this parameter **by using the transformed training dataset only** and not the validation set. Create a 3-fold cross-validation object for the training dataset. Set the `shuffle` parameter to `True` and the `random_state` to `0`. By using the cross-validation iterator, display the number of test samples in each iteration fold."
   ]
  },
  {
   "cell_type": "code",
   "execution_count": 12,
   "metadata": {
    "collapsed": false
   },
   "outputs": [
    {
     "name": "stdout",
     "output_type": "stream",
     "text": [
      "TRAIN: [  0   2   3   9  11  13  16  17  18  19  23  24  25  27  28  29  30  31\n",
      "  32  33  34  35  36  38  39  40  41  42  43  44  47  48  50  51  53  57\n",
      "  58  61  62  63  66  67  69  70  72  73  77  79  80  82  83  84  85  86\n",
      "  87  88  89  91  92  93  94  95  97  98  99 101 103 104 105 106 109 110\n",
      " 111 112 114 115 116 117 119 120 121 123 125 126 127 128 129 130 131 133\n",
      " 136 138 139 140 143 145 146 147 148 149 150 151 152 156 158 160 161 162\n",
      " 163 164 165 166 167 168 169 172 174 176 177 178 180 181 182 183 184 185\n",
      " 187 189 190 192 193 195 197 198 199 201 202 203 204 206 207 209 211 212\n",
      " 214 215 216 217 218 222 223 226 227 228 230 232 234 237 242 243 244 246\n",
      " 247 248 249 251 252 253 255 256 257 258 259 260 261 262 263 265 266 267\n",
      " 268 269 270 273 274 275 277 279 280 281 282 285 286 287 288 290 291 292\n",
      " 294 296 298 302 303 304 305 306 307 308 309 310 312 313 314 315 317 319\n",
      " 320 321 323 324 328 332 333 334 335 337 338 339 341 344 345 346 347 349\n",
      " 350 351 352 354 356 357 358 359 360 361 364 368 369 370 371 373 376 377\n",
      " 378 380 384 385 386 388 389 392 393 394 395 396 397 398 399 400 404 405\n",
      " 407 408 409 410 414 415 416 417 419 420 422 423 424 426 427 429 431 433\n",
      " 434 435 436 437 439 441 442 443 444 446 447 448 449 450 452 454 455 456\n",
      " 459 460 462 464 465 466 467 470 471 472 473 476 477 478 479 480 481 482\n",
      " 483 486 487 494 495 496 497 498 499] TEST: [  1   4   5   6   7   8  10  12  14  15  20  21  22  26  37  45  46  49\n",
      "  52  54  55  56  59  60  64  65  68  71  74  75  76  78  81  90  96 100\n",
      " 102 107 108 113 118 122 124 132 134 135 137 141 142 144 153 154 155 157\n",
      " 159 170 171 173 175 179 186 188 191 194 196 200 205 208 210 213 219 220\n",
      " 221 224 225 229 231 233 235 236 238 239 240 241 245 250 254 264 271 272\n",
      " 276 278 283 284 289 293 295 297 299 300 301 311 316 318 322 325 326 327\n",
      " 329 330 331 336 340 342 343 348 353 355 362 363 365 366 367 372 374 375\n",
      " 379 381 382 383 387 390 391 401 402 403 406 411 412 413 418 421 425 428\n",
      " 430 432 438 440 445 451 453 457 458 461 463 468 469 474 475 484 485 488\n",
      " 489 490 491 492 493]\n",
      "NUMBER OF TEST SAMPLES PER ITERATION FOLD: 167\n",
      "TRAIN: [  0   1   4   5   6   7   8   9  10  11  12  14  15  20  21  22  23  25\n",
      "  26  28  31  32  36  37  38  39  41  42  43  45  46  47  48  49  50  52\n",
      "  53  54  55  56  57  58  59  60  62  64  65  68  69  70  71  72  74  75\n",
      "  76  77  78  80  81  82  84  86  87  88  90  91  94  95  96  98  99 100\n",
      " 102 105 107 108 113 115 117 118 119 121 122 123 124 125 127 128 130 131\n",
      " 132 134 135 137 141 142 143 144 147 148 151 153 154 155 157 159 163 165\n",
      " 169 170 171 172 173 174 175 177 178 179 180 182 183 184 185 186 187 188\n",
      " 191 192 193 194 195 196 197 200 201 202 203 205 207 208 209 210 211 213\n",
      " 219 220 221 222 224 225 227 229 231 233 235 236 238 239 240 241 242 243\n",
      " 244 245 250 251 254 256 257 258 262 264 265 266 267 270 271 272 273 275\n",
      " 276 277 278 279 280 283 284 285 286 288 289 290 291 292 293 294 295 297\n",
      " 299 300 301 304 305 307 311 314 316 318 321 322 323 324 325 326 327 329\n",
      " 330 331 333 334 335 336 337 338 340 341 342 343 348 349 353 355 356 358\n",
      " 359 362 363 365 366 367 368 369 370 371 372 373 374 375 376 377 378 379\n",
      " 381 382 383 384 387 388 389 390 391 396 397 398 401 402 403 404 406 410\n",
      " 411 412 413 416 418 420 421 423 424 425 426 428 430 431 432 434 436 437\n",
      " 438 440 441 442 444 445 446 447 448 449 451 453 454 456 457 458 460 461\n",
      " 462 463 464 465 466 467 468 469 470 472 474 475 477 480 482 483 484 485\n",
      " 486 487 488 489 490 491 492 493 498] TEST: [  2   3  13  16  17  18  19  24  27  29  30  33  34  35  40  44  51  61\n",
      "  63  66  67  73  79  83  85  89  92  93  97 101 103 104 106 109 110 111\n",
      " 112 114 116 120 126 129 133 136 138 139 140 145 146 149 150 152 156 158\n",
      " 160 161 162 164 166 167 168 176 181 189 190 198 199 204 206 212 214 215\n",
      " 216 217 218 223 226 228 230 232 234 237 246 247 248 249 252 253 255 259\n",
      " 260 261 263 268 269 274 281 282 287 296 298 302 303 306 308 309 310 312\n",
      " 313 315 317 319 320 328 332 339 344 345 346 347 350 351 352 354 357 360\n",
      " 361 364 380 385 386 392 393 394 395 399 400 405 407 408 409 414 415 417\n",
      " 419 422 427 429 433 435 439 443 450 452 455 459 471 473 476 478 479 481\n",
      " 494 495 496 497 499]\n",
      "NUMBER OF TEST SAMPLES PER ITERATION FOLD: 167\n",
      "TRAIN: [  1   2   3   4   5   6   7   8  10  12  13  14  15  16  17  18  19  20\n",
      "  21  22  24  26  27  29  30  33  34  35  37  40  44  45  46  49  51  52\n",
      "  54  55  56  59  60  61  63  64  65  66  67  68  71  73  74  75  76  78\n",
      "  79  81  83  85  89  90  92  93  96  97 100 101 102 103 104 106 107 108\n",
      " 109 110 111 112 113 114 116 118 120 122 124 126 129 132 133 134 135 136\n",
      " 137 138 139 140 141 142 144 145 146 149 150 152 153 154 155 156 157 158\n",
      " 159 160 161 162 164 166 167 168 170 171 173 175 176 179 181 186 188 189\n",
      " 190 191 194 196 198 199 200 204 205 206 208 210 212 213 214 215 216 217\n",
      " 218 219 220 221 223 224 225 226 228 229 230 231 232 233 234 235 236 237\n",
      " 238 239 240 241 245 246 247 248 249 250 252 253 254 255 259 260 261 263\n",
      " 264 268 269 271 272 274 276 278 281 282 283 284 287 289 293 295 296 297\n",
      " 298 299 300 301 302 303 306 308 309 310 311 312 313 315 316 317 318 319\n",
      " 320 322 325 326 327 328 329 330 331 332 336 339 340 342 343 344 345 346\n",
      " 347 348 350 351 352 353 354 355 357 360 361 362 363 364 365 366 367 372\n",
      " 374 375 379 380 381 382 383 385 386 387 390 391 392 393 394 395 399 400\n",
      " 401 402 403 405 406 407 408 409 411 412 413 414 415 417 418 419 421 422\n",
      " 425 427 428 429 430 432 433 435 438 439 440 443 445 450 451 452 453 455\n",
      " 457 458 459 461 463 468 469 471 473 474 475 476 478 479 481 484 485 488\n",
      " 489 490 491 492 493 494 495 496 497 499] TEST: [  0   9  11  23  25  28  31  32  36  38  39  41  42  43  47  48  50  53\n",
      "  57  58  62  69  70  72  77  80  82  84  86  87  88  91  94  95  98  99\n",
      " 105 115 117 119 121 123 125 127 128 130 131 143 147 148 151 163 165 169\n",
      " 172 174 177 178 180 182 183 184 185 187 192 193 195 197 201 202 203 207\n",
      " 209 211 222 227 242 243 244 251 256 257 258 262 265 266 267 270 273 275\n",
      " 277 279 280 285 286 288 290 291 292 294 304 305 307 314 321 323 324 333\n",
      " 334 335 337 338 341 349 356 358 359 368 369 370 371 373 376 377 378 384\n",
      " 388 389 396 397 398 404 410 416 420 423 424 426 431 434 436 437 441 442\n",
      " 444 446 447 448 449 454 456 460 462 464 465 466 467 470 472 477 480 482\n",
      " 483 486 487 498]\n",
      "NUMBER OF TEST SAMPLES PER ITERATION FOLD: 166\n"
     ]
    }
   ],
   "source": [
    "# Your code goes here\n",
    "kf = KFold(500, n_folds=3, shuffle=True, random_state=0)\n",
    "for train, test in kf:\n",
    "    print(\"TRAIN:\", train, \"TEST:\", test)\n",
    "    X_train, X_test = X_tr_trans[train], X_tr_trans[test]\n",
    "    y_train, y_test = y_tr[train], y_tr[test]\n",
    "    print(\"NUMBER OF TEST SAMPLES PER ITERATION FOLD:\", len(test))"
   ]
  },
  {
   "cell_type": "markdown",
   "metadata": {},
   "source": [
    "### ========== Question 1.12 ========== \n",
    "Now we want to test out different settings for the regularisation parameter `C` by using the cross-validation iterator from the previous question. For each iteration, we want to train multiple classifiers by using a range of values for `C` and then compute the performance within each CV fold. You should use a log-range for `C` from `1e-5` to `1e5` by using 20 equally-spaced values *(hint: look at the `logspace()` function in numpy)*. \n",
    "\n",
    "Create a 2-dimensional array and, for each cross-validation fold and parameter setting pair, compute and store the classification accuracy score e.g. store the score of fold 0 with parameter setting 1 at score_array[0,1]. As previously, set the `solver` parameter to `lbfgs` and use default settings for the other parameters.\n",
    "\n",
    "*(hint: your may want to use two loops in your code; one iterating over CV folds and another one iterating over the values for `C`)*. "
   ]
  },
  {
   "cell_type": "code",
   "execution_count": 13,
   "metadata": {
    "collapsed": false
   },
   "outputs": [
    {
     "name": "stdout",
     "output_type": "stream",
     "text": [
      "[[  0.000e+000   1.000e+000   2.372e-322   1.749e-060   2.202e-314\n",
      "    2.134e-314   0.000e+000   0.000e+000   0.000e+000   0.000e+000\n",
      "    0.000e+000   0.000e+000   0.000e+000   0.000e+000   0.000e+000\n",
      "    1.992e-060   2.202e-314   2.134e-314   1.750e-060   2.202e-314]\n",
      " [  2.134e-314  -9.245e+255   2.202e-314   2.134e-314   0.000e+000\n",
      "    0.000e+000   0.000e+000   0.000e+000   0.000e+000   0.000e+000\n",
      "    0.000e+000   0.000e+000   0.000e+000   0.000e+000   0.000e+000\n",
      "    0.000e+000   0.000e+000   0.000e+000   0.000e+000   0.000e+000]\n",
      " [  0.000e+000   0.000e+000   0.000e+000   0.000e+000   0.000e+000\n",
      "    0.000e+000   0.000e+000   0.000e+000   0.000e+000   0.000e+000\n",
      "    0.000e+000   0.000e+000   0.000e+000   0.000e+000   0.000e+000\n",
      "    0.000e+000   0.000e+000   0.000e+000   0.000e+000   0.000e+000]]\n"
     ]
    }
   ],
   "source": [
    "C = np.logspace(start=-5, stop=5, num=20)\n",
    "kf = KFold(500, n_folds=3, shuffle=True, random_state=0)\n",
    "score_array = np.empty((3, 20))\n",
    "\n",
    "for train, test in kf:\n",
    "    X_train, X_test = X_tr_trans[train], X_tr_trans[test]\n",
    "    y_train, y_test = y_tr[train], y_tr[test]\n",
    "    fold = 0\n",
    "    for c in C:\n",
    "        count = 1\n",
    "        lr = LogisticRegression(solver='lbfgs', C = c)\n",
    "        lr.fit(X_train, y_train)\n",
    "        score_array[fold, count] = lr.score(X_train, y_train)\n",
    "        count = count + 1\n",
    "        \n",
    "    fold = fold + 1\n",
    "        \n",
    "print(score_array)\n",
    "    \n",
    "    \n",
    "        \n",
    "    "
   ]
  },
  {
   "cell_type": "markdown",
   "metadata": {},
   "source": [
    "### ========== Question 1.13 ========== \n",
    "Plot the mean classification performance (across CV folds) of the logistic regression classifier against the regularisation parameter `C` by using the range from Question 1.12. Use a logarithmic scale for the x-axis and label both axes appropriately. "
   ]
  },
  {
   "cell_type": "code",
   "execution_count": 16,
   "metadata": {
    "collapsed": false
   },
   "outputs": [
    {
     "name": "stdout",
     "output_type": "stream",
     "text": [
      "[7.1147968388155609e-315, -3.0816364459830212e+255, 7.3400163225669975e-315, 5.8287667619416298e-61, 7.3399789712041719e-315, 7.1147967202398059e-315, 0.0, 0.0, 0.0, 0.0, 0.0, 0.0, 0.0, 0.0, 0.0, 6.6393807576169669e-61, 7.3400181407285742e-315, 7.1147969178660643e-315, 5.8317217432795581e-61, 7.339980156961722e-315]\n",
      "6.63938075762e-61\n"
     ]
    },
    {
     "data": {
      "image/png": "[encoded data removed]",
      "text/plain": [
       "<matplotlib.figure.Figure at 0x109a1c250>"
      ]
     },
     "metadata": {},
     "output_type": "display_data"
    }
   ],
   "source": [
    "# Your code goes here\n",
    "\n",
    "x = []\n",
    "columns = 20\n",
    "rows = 3\n",
    "for j in range(columns):\n",
    "     for i in range(rows):\n",
    "        x.append(score_array[i][j])\n",
    "\n",
    "y = np.array_split(x, 20)\n",
    "arr_mean = []\n",
    "for z in y:\n",
    "    arr_mean.append(np.mean(z))\n",
    "    \n",
    "print(arr_mean)\n",
    "print(np.max(arr_mean))\n",
    "ax = plt.semilogx(x = arr_mean, y = C)"
   ]
  },
  {
   "cell_type": "markdown",
   "metadata": {},
   "source": [
    "### ========== Question 1.14 ==========\n",
    "Find and display the optimal value for the regularisation parameter `C` of the logistic classifier by using your results from Question 1.12. Similarly to Question 1.13, consider the mean classifiation accuracy across CV folds. By using the optimal value (i.e. the one that yields the highest average classification accuracy) train a new `LogisticRegression` classifier and report the classification accuracy on the validation set. *(Hint: Do not pick the optimal value \"by hand\", instead use an appropriate numpy function).*"
   ]
  },
  {
   "cell_type": "code",
   "execution_count": 20,
   "metadata": {
    "collapsed": false
   },
   "outputs": [
    {
     "name": "stdout",
     "output_type": "stream",
     "text": [
      "[15]\n",
      "The optimal value in Score array is [15]\n",
      "The optimal C parameter is: 784.759970351\n",
      "Classification accuracy on validation set: 0.812\n"
     ]
    }
   ],
   "source": [
    "# Your code goes here\n",
    "m = max(arr_mean)\n",
    "a = ([i for i, j in enumerate(arr_mean) if j == m])\n",
    "print(a)\n",
    "print(\"The optimal value in Score array is\", a) #a is 1.0\n",
    "#print(score_array)#1.0 is the second digit of the first fold\n",
    "print(\"The optimal C parameter is:\", C[15]) #so the second C parameter is the opitmal value\n",
    "lr = LogisticRegression(solver='lbfgs', C = C[15])\n",
    "lr.fit(X_val_trans, y_val)\n",
    "print('Classification accuracy on validation set: {:.3f}'.format(lr.score(X_val_trans, y_val)))"
   ]
  },
  {
   "cell_type": "markdown",
   "metadata": {},
   "source": [
    "### ========== Question 1.15 ========== \n",
    "Scikit-learn offers a [`LogisticRegressionCV`](http://scikit-learn.org/0.17/modules/generated/sklearn.linear_model.LogisticRegressionCV.html) module which implements Logistic Regression with builtin cross-validation to find out the optimal `C` parameter. You can specify the range for the `C` parameter, as well as the cross-validation method you want to use with the `Cs` and `cv` parameters, respectively. Use the `C` range you set up in Question 1.12 and the 3-fold cross-validation iterator from Question 1.11. Once again, train the models by using the `lbfgs` optimisation method and display the optimal value for the parameter `C`. Finally, display the classification accuracy on the validation set. Can you verify that your results are consistent with those from Question 1.14?"
   ]
  },
  {
   "cell_type": "code",
   "execution_count": 21,
   "metadata": {
    "collapsed": false
   },
   "outputs": [
    {
     "name": "stdout",
     "output_type": "stream",
     "text": [
      "[ 0.004]\n",
      "Classification accuracy on validation set: 0.780\n"
     ]
    }
   ],
   "source": [
    "# Your code goes here\n",
    "\n",
    "C_param = np.logspace(start=-5, stop=5, num=20)\n",
    "lrCV = LogisticRegressionCV(Cs= C_param, cv= kf, solver = 'lbfgs')\n",
    "lrCV.fit(X_val_trans, y_val)\n",
    "print(lrCV.C_)\n",
    "print('Classification accuracy on validation set: {:.3f}'.format(lrCV.score(X_val_trans, y_val)))\n",
    "#my results are different than 1.14. The best C value is 0.004."
   ]
  },
  {
   "cell_type": "markdown",
   "metadata": {},
   "source": [
    "### ========== Question 1.16 ==========\n",
    "Now, we want to validate the importance of various features for classification. For this purpose, we will use a [`RandomForestClassifier`](http://scikit-learn.org/0.17/modules/generated/sklearn.ensemble.RandomForestClassifier.html) (you might want to refer to Lab_3 if you are unsure how we can estimate feature importances with decision tree and random forest models).\n",
    "\n",
    "Initialise a random forest classifier and fit the model by using training data only and 500 trees (i.e. `n_estimators`). Set the `RandomState` equal to 31 to ensure reproducible results. Report the accuracy score on both the training and validation sets."
   ]
  },
  {
   "cell_type": "code",
   "execution_count": 22,
   "metadata": {
    "collapsed": false
   },
   "outputs": [
    {
     "name": "stdout",
     "output_type": "stream",
     "text": [
      "Classification accuracy on training set: 1.000\n",
      "Classification accuracy on validation set: 1.000\n"
     ]
    }
   ],
   "source": [
    "# Your code goes here\n",
    "rf = RandomForestClassifier(n_estimators=500, random_state=31)\n",
    "rf.fit(X_tr_trans, y_tr)\n",
    "prediction_train = rf.predict(X=X_tr_trans)\n",
    "print('Classification accuracy on training set: {:.3f}'.format(accuracy_score(y_tr,prediction_train)))\n",
    "prediction_val = rf.predict(X=X_val_trans)\n",
    "print('Classification accuracy on validation set: {:.3f}'.format(accuracy_score(y_val,prediction_val)))"
   ]
  },
  {
   "cell_type": "markdown",
   "metadata": {},
   "source": [
    "### ========== Question 1.17 ==========\n",
    "Comment on the results above. Do you find the discrepancy between training and validation accuracies surprising?"
   ]
  },
  {
   "cell_type": "markdown",
   "metadata": {},
   "source": [
    "The training and validation scores have the same accuracy of 1.0. This is suprising because I didn't think they should both have perfect accuracies. \n",
    "\n"
   ]
  },
  {
   "cell_type": "markdown",
   "metadata": {},
   "source": [
    "### ========== Question 1.18 ==========\n",
    "By using the random forest model from the previous question order the features by descending importance and display the names of the 50 most important features."
   ]
  },
  {
   "cell_type": "code",
   "execution_count": 23,
   "metadata": {
    "collapsed": false
   },
   "outputs": [
    {
     "name": "stdout",
     "output_type": "stream",
     "text": [
      "Feature ranking:\n",
      "1. feature 20 (0.008335)\n",
      "2. feature 478 (0.006743)\n",
      "3. feature 359 (0.006573)\n",
      "4. feature 282 (0.006489)\n",
      "5. feature 50 (0.006333)\n",
      "6. feature 75 (0.006276)\n",
      "7. feature 3 (0.005398)\n",
      "8. feature 460 (0.005099)\n",
      "9. feature 329 (0.005098)\n",
      "10. feature 397 (0.005033)\n",
      "11. feature 342 (0.004953)\n",
      "12. feature 221 (0.004787)\n",
      "13. feature 273 (0.004644)\n",
      "14. feature 216 (0.004518)\n",
      "15. feature 484 (0.004488)\n",
      "16. feature 422 (0.004456)\n",
      "17. feature 262 (0.004446)\n",
      "18. feature 355 (0.004366)\n",
      "19. feature 346 (0.004307)\n",
      "20. feature 73 (0.004264)\n",
      "21. feature 213 (0.004226)\n",
      "22. feature 499 (0.004102)\n",
      "23. feature 328 (0.004051)\n",
      "24. feature 91 (0.004048)\n",
      "25. feature 53 (0.004025)\n",
      "26. feature 325 (0.004004)\n",
      "27. feature 89 (0.003917)\n",
      "28. feature 347 (0.003910)\n",
      "29. feature 311 (0.003849)\n",
      "30. feature 153 (0.003785)\n",
      "31. feature 482 (0.003772)\n",
      "32. feature 24 (0.003753)\n",
      "33. feature 288 (0.003738)\n",
      "34. feature 76 (0.003680)\n",
      "35. feature 133 (0.003672)\n",
      "36. feature 253 (0.003636)\n",
      "37. feature 426 (0.003617)\n",
      "38. feature 287 (0.003596)\n",
      "39. feature 72 (0.003556)\n",
      "40. feature 321 (0.003532)\n",
      "41. feature 439 (0.003501)\n",
      "42. feature 16 (0.003470)\n",
      "43. feature 352 (0.003468)\n",
      "44. feature 205 (0.003337)\n",
      "45. feature 170 (0.003235)\n",
      "46. feature 441 (0.003209)\n",
      "47. feature 84 (0.003161)\n",
      "48. feature 95 (0.003158)\n",
      "49. feature 34 (0.003097)\n",
      "50. feature 47 (0.002967)\n",
      "51. feature 14 (0.002945)\n",
      "52. feature 159 (0.002944)\n",
      "53. feature 314 (0.002929)\n",
      "54. feature 70 (0.002868)\n",
      "55. feature 298 (0.002846)\n",
      "56. feature 256 (0.002839)\n",
      "57. feature 293 (0.002835)\n",
      "58. feature 152 (0.002788)\n",
      "59. feature 160 (0.002734)\n",
      "60. feature 271 (0.002714)\n",
      "61. feature 343 (0.002708)\n",
      "62. feature 206 (0.002693)\n",
      "63. feature 270 (0.002660)\n",
      "64. feature 80 (0.002627)\n",
      "65. feature 487 (0.002622)\n",
      "66. feature 58 (0.002598)\n",
      "67. feature 202 (0.002592)\n",
      "68. feature 187 (0.002590)\n",
      "69. feature 196 (0.002588)\n",
      "70. feature 200 (0.002578)\n",
      "71. feature 401 (0.002560)\n",
      "72. feature 98 (0.002537)\n",
      "73. feature 497 (0.002522)\n",
      "74. feature 443 (0.002499)\n",
      "75. feature 117 (0.002494)\n",
      "76. feature 156 (0.002413)\n",
      "77. feature 189 (0.002407)\n",
      "78. feature 444 (0.002395)\n",
      "79. feature 220 (0.002388)\n",
      "80. feature 305 (0.002387)\n",
      "81. feature 169 (0.002377)\n",
      "82. feature 363 (0.002376)\n",
      "83. feature 367 (0.002373)\n",
      "84. feature 356 (0.002373)\n",
      "85. feature 429 (0.002340)\n",
      "86. feature 141 (0.002337)\n",
      "87. feature 232 (0.002313)\n",
      "88. feature 310 (0.002303)\n",
      "89. feature 113 (0.002303)\n",
      "90. feature 285 (0.002303)\n",
      "91. feature 281 (0.002302)\n",
      "92. feature 416 (0.002300)\n",
      "93. feature 151 (0.002299)\n",
      "94. feature 322 (0.002294)\n",
      "95. feature 278 (0.002290)\n",
      "96. feature 464 (0.002275)\n",
      "97. feature 52 (0.002274)\n",
      "98. feature 243 (0.002269)\n",
      "99. feature 411 (0.002262)\n",
      "100. feature 79 (0.002249)\n",
      "101. feature 361 (0.002243)\n",
      "102. feature 374 (0.002224)\n",
      "103. feature 351 (0.002223)\n",
      "104. feature 380 (0.002222)\n",
      "105. feature 451 (0.002221)\n",
      "106. feature 197 (0.002219)\n",
      "107. feature 55 (0.002218)\n",
      "108. feature 78 (0.002202)\n",
      "109. feature 149 (0.002201)\n",
      "110. feature 353 (0.002198)\n",
      "111. feature 51 (0.002192)\n",
      "112. feature 276 (0.002185)\n",
      "113. feature 435 (0.002183)\n",
      "114. feature 388 (0.002182)\n",
      "115. feature 341 (0.002176)\n",
      "116. feature 36 (0.002176)\n",
      "117. feature 400 (0.002174)\n",
      "118. feature 2 (0.002170)\n",
      "119. feature 40 (0.002168)\n",
      "120. feature 362 (0.002158)\n",
      "121. feature 204 (0.002157)\n",
      "122. feature 121 (0.002155)\n",
      "123. feature 357 (0.002155)\n",
      "124. feature 415 (0.002154)\n",
      "125. feature 419 (0.002153)\n",
      "126. feature 126 (0.002143)\n",
      "127. feature 237 (0.002140)\n",
      "128. feature 203 (0.002140)\n",
      "129. feature 494 (0.002127)\n",
      "130. feature 320 (0.002115)\n",
      "131. feature 61 (0.002114)\n",
      "132. feature 414 (0.002109)\n",
      "133. feature 134 (0.002106)\n",
      "134. feature 263 (0.002104)\n",
      "135. feature 231 (0.002100)\n",
      "136. feature 41 (0.002094)\n",
      "137. feature 172 (0.002089)\n",
      "138. feature 218 (0.002082)\n",
      "139. feature 19 (0.002070)\n",
      "140. feature 348 (0.002063)\n",
      "141. feature 296 (0.002059)\n",
      "142. feature 99 (0.002059)\n",
      "143. feature 230 (0.002057)\n",
      "144. feature 26 (0.002056)\n",
      "145. feature 431 (0.002050)\n",
      "146. feature 332 (0.002036)\n",
      "147. feature 442 (0.002033)\n",
      "148. feature 376 (0.002032)\n",
      "149. feature 470 (0.002025)\n",
      "150. feature 154 (0.001994)\n",
      "151. feature 428 (0.001992)\n",
      "152. feature 198 (0.001992)\n",
      "153. feature 461 (0.001987)\n",
      "154. feature 64 (0.001986)\n",
      "155. feature 309 (0.001985)\n",
      "156. feature 94 (0.001985)\n",
      "157. feature 340 (0.001976)\n",
      "158. feature 403 (0.001975)\n",
      "159. feature 476 (0.001972)\n",
      "160. feature 4 (0.001972)\n",
      "161. feature 181 (0.001965)\n",
      "162. feature 18 (0.001963)\n",
      "163. feature 30 (0.001960)\n",
      "164. feature 306 (0.001952)\n",
      "165. feature 104 (0.001948)\n",
      "166. feature 289 (0.001944)\n",
      "167. feature 166 (0.001943)\n",
      "168. feature 481 (0.001936)\n",
      "169. feature 336 (0.001934)\n",
      "170. feature 228 (0.001928)\n",
      "171. feature 83 (0.001926)\n",
      "172. feature 250 (0.001922)\n",
      "173. feature 452 (0.001918)\n",
      "174. feature 215 (0.001916)\n",
      "175. feature 488 (0.001913)\n",
      "176. feature 495 (0.001911)\n",
      "177. feature 496 (0.001907)\n",
      "178. feature 33 (0.001905)\n",
      "179. feature 108 (0.001905)\n",
      "180. feature 458 (0.001903)\n",
      "181. feature 135 (0.001902)\n",
      "182. feature 48 (0.001902)\n",
      "183. feature 110 (0.001902)\n",
      "184. feature 37 (0.001900)\n",
      "185. feature 63 (0.001899)\n",
      "186. feature 358 (0.001891)\n",
      "187. feature 247 (0.001890)\n",
      "188. feature 393 (0.001886)\n",
      "189. feature 10 (0.001885)\n",
      "190. feature 398 (0.001884)\n",
      "191. feature 111 (0.001883)\n",
      "192. feature 323 (0.001882)\n",
      "193. feature 194 (0.001875)\n",
      "194. feature 49 (0.001874)\n",
      "195. feature 492 (0.001871)\n",
      "196. feature 128 (0.001870)\n",
      "197. feature 472 (0.001863)\n",
      "198. feature 0 (0.001860)\n",
      "199. feature 427 (0.001860)\n",
      "200. feature 371 (0.001860)\n",
      "201. feature 240 (0.001857)\n",
      "202. feature 45 (0.001854)\n",
      "203. feature 167 (0.001844)\n",
      "204. feature 137 (0.001844)\n",
      "205. feature 211 (0.001842)\n",
      "206. feature 291 (0.001842)\n",
      "207. feature 165 (0.001841)\n",
      "208. feature 115 (0.001840)\n",
      "209. feature 462 (0.001840)\n",
      "210. feature 174 (0.001836)\n",
      "211. feature 456 (0.001833)\n",
      "212. feature 130 (0.001832)\n",
      "213. feature 150 (0.001828)\n",
      "214. feature 208 (0.001819)\n",
      "215. feature 93 (0.001818)\n",
      "216. feature 390 (0.001813)\n",
      "217. feature 163 (0.001809)\n",
      "218. feature 144 (0.001807)\n",
      "219. feature 315 (0.001804)\n",
      "220. feature 385 (0.001796)\n",
      "221. feature 32 (0.001793)\n",
      "222. feature 27 (0.001792)\n",
      "223. feature 57 (0.001790)\n",
      "224. feature 188 (0.001788)\n",
      "225. feature 360 (0.001786)\n",
      "226. feature 381 (0.001785)\n",
      "227. feature 138 (0.001784)\n",
      "228. feature 244 (0.001783)\n",
      "229. feature 299 (0.001780)\n",
      "230. feature 395 (0.001778)\n",
      "231. feature 485 (0.001777)\n",
      "232. feature 184 (0.001775)\n",
      "233. feature 245 (0.001769)\n",
      "234. feature 157 (0.001769)\n",
      "235. feature 177 (0.001768)\n",
      "236. feature 178 (0.001765)\n",
      "237. feature 365 (0.001764)\n",
      "238. feature 369 (0.001764)\n",
      "239. feature 43 (0.001763)\n",
      "240. feature 279 (0.001763)\n",
      "241. feature 469 (0.001763)\n",
      "242. feature 486 (0.001760)\n",
      "243. feature 122 (0.001758)\n",
      "244. feature 283 (0.001757)\n",
      "245. feature 339 (0.001757)\n",
      "246. feature 82 (0.001756)\n",
      "247. feature 354 (0.001755)\n",
      "248. feature 457 (0.001755)\n",
      "249. feature 9 (0.001754)\n",
      "250. feature 301 (0.001752)\n",
      "251. feature 421 (0.001752)\n",
      "252. feature 417 (0.001751)\n",
      "253. feature 31 (0.001749)\n",
      "254. feature 183 (0.001747)\n",
      "255. feature 8 (0.001746)\n",
      "256. feature 364 (0.001745)\n",
      "257. feature 264 (0.001740)\n",
      "258. feature 161 (0.001737)\n",
      "259. feature 383 (0.001737)\n",
      "260. feature 465 (0.001736)\n",
      "261. feature 445 (0.001736)\n",
      "262. feature 307 (0.001735)\n",
      "263. feature 304 (0.001732)\n",
      "264. feature 386 (0.001731)\n",
      "265. feature 116 (0.001730)\n",
      "266. feature 420 (0.001728)\n",
      "267. feature 319 (0.001727)\n",
      "268. feature 318 (0.001727)\n",
      "269. feature 105 (0.001727)\n",
      "270. feature 118 (0.001726)\n",
      "271. feature 366 (0.001726)\n",
      "272. feature 81 (0.001725)\n",
      "273. feature 207 (0.001723)\n",
      "274. feature 107 (0.001723)\n",
      "275. feature 490 (0.001717)\n",
      "276. feature 190 (0.001717)\n",
      "277. feature 209 (0.001717)\n",
      "278. feature 212 (0.001713)\n",
      "279. feature 432 (0.001712)\n",
      "280. feature 120 (0.001710)\n",
      "281. feature 475 (0.001706)\n",
      "282. feature 391 (0.001703)\n",
      "283. feature 28 (0.001703)\n",
      "284. feature 436 (0.001702)\n",
      "285. feature 254 (0.001700)\n",
      "286. feature 498 (0.001699)\n",
      "287. feature 313 (0.001693)\n",
      "288. feature 350 (0.001690)\n",
      "289. feature 6 (0.001689)\n",
      "290. feature 447 (0.001688)\n",
      "291. feature 29 (0.001686)\n",
      "292. feature 67 (0.001685)\n",
      "293. feature 312 (0.001685)\n",
      "294. feature 185 (0.001679)\n",
      "295. feature 125 (0.001676)\n",
      "296. feature 146 (0.001671)\n",
      "297. feature 77 (0.001670)\n",
      "298. feature 255 (0.001668)\n",
      "299. feature 241 (0.001667)\n",
      "300. feature 235 (0.001666)\n",
      "301. feature 387 (0.001663)\n",
      "302. feature 493 (0.001662)\n",
      "303. feature 114 (0.001655)\n",
      "304. feature 248 (0.001649)\n",
      "305. feature 66 (0.001648)\n",
      "306. feature 308 (0.001646)\n",
      "307. feature 123 (0.001643)\n",
      "308. feature 406 (0.001642)\n",
      "309. feature 227 (0.001640)\n",
      "310. feature 176 (0.001638)\n",
      "311. feature 433 (0.001638)\n",
      "312. feature 286 (0.001636)\n",
      "313. feature 477 (0.001633)\n",
      "314. feature 236 (0.001632)\n",
      "315. feature 394 (0.001632)\n",
      "316. feature 267 (0.001631)\n",
      "317. feature 5 (0.001631)\n",
      "318. feature 238 (0.001631)\n",
      "319. feature 86 (0.001630)\n",
      "320. feature 438 (0.001629)\n",
      "321. feature 25 (0.001629)\n",
      "322. feature 446 (0.001629)\n",
      "323. feature 87 (0.001626)\n",
      "324. feature 96 (0.001625)\n",
      "325. feature 473 (0.001624)\n",
      "326. feature 412 (0.001619)\n",
      "327. feature 101 (0.001615)\n",
      "328. feature 333 (0.001615)\n",
      "329. feature 223 (0.001613)\n",
      "330. feature 483 (0.001613)\n",
      "331. feature 23 (0.001610)\n",
      "332. feature 92 (0.001610)\n",
      "333. feature 327 (0.001607)\n",
      "334. feature 246 (0.001606)\n",
      "335. feature 409 (0.001604)\n",
      "336. feature 191 (0.001604)\n",
      "337. feature 229 (0.001604)\n",
      "338. feature 132 (0.001602)\n",
      "339. feature 88 (0.001601)\n",
      "340. feature 449 (0.001596)\n",
      "341. feature 413 (0.001593)\n",
      "342. feature 467 (0.001593)\n",
      "343. feature 489 (0.001590)\n",
      "344. feature 335 (0.001589)\n",
      "345. feature 74 (0.001587)\n",
      "346. feature 210 (0.001584)\n",
      "347. feature 277 (0.001583)\n",
      "348. feature 56 (0.001582)\n",
      "349. feature 434 (0.001582)\n",
      "350. feature 424 (0.001581)\n",
      "351. feature 378 (0.001579)\n",
      "352. feature 171 (0.001576)\n",
      "353. feature 182 (0.001574)\n",
      "354. feature 275 (0.001572)\n",
      "355. feature 402 (0.001569)\n",
      "356. feature 54 (0.001569)\n",
      "357. feature 330 (0.001568)\n",
      "358. feature 143 (0.001566)\n",
      "359. feature 168 (0.001564)\n",
      "360. feature 69 (0.001562)\n",
      "361. feature 60 (0.001558)\n",
      "362. feature 226 (0.001555)\n",
      "363. feature 136 (0.001551)\n",
      "364. feature 124 (0.001547)\n",
      "365. feature 199 (0.001546)\n",
      "366. feature 345 (0.001546)\n",
      "367. feature 440 (0.001545)\n",
      "368. feature 466 (0.001543)\n",
      "369. feature 201 (0.001539)\n",
      "370. feature 257 (0.001539)\n",
      "371. feature 145 (0.001538)\n",
      "372. feature 384 (0.001537)\n",
      "373. feature 129 (0.001535)\n",
      "374. feature 261 (0.001535)\n",
      "375. feature 324 (0.001534)\n",
      "376. feature 186 (0.001528)\n",
      "377. feature 272 (0.001528)\n",
      "378. feature 454 (0.001523)\n",
      "379. feature 233 (0.001517)\n",
      "380. feature 300 (0.001516)\n",
      "381. feature 294 (0.001515)\n",
      "382. feature 131 (0.001514)\n",
      "383. feature 224 (0.001511)\n",
      "384. feature 164 (0.001510)\n",
      "385. feature 195 (0.001510)\n",
      "386. feature 337 (0.001509)\n",
      "387. feature 119 (0.001508)\n",
      "388. feature 303 (0.001501)\n",
      "389. feature 259 (0.001501)\n",
      "390. feature 175 (0.001500)\n",
      "391. feature 85 (0.001497)\n",
      "392. feature 158 (0.001490)\n",
      "393. feature 179 (0.001489)\n",
      "394. feature 38 (0.001488)\n",
      "395. feature 370 (0.001485)\n",
      "396. feature 219 (0.001484)\n",
      "397. feature 140 (0.001483)\n",
      "398. feature 251 (0.001473)\n",
      "399. feature 448 (0.001473)\n",
      "400. feature 379 (0.001472)\n",
      "401. feature 430 (0.001472)\n",
      "402. feature 450 (0.001469)\n",
      "403. feature 479 (0.001468)\n",
      "404. feature 297 (0.001466)\n",
      "405. feature 326 (0.001465)\n",
      "406. feature 44 (0.001465)\n",
      "407. feature 316 (0.001464)\n",
      "408. feature 102 (0.001459)\n",
      "409. feature 147 (0.001455)\n",
      "410. feature 425 (0.001455)\n",
      "411. feature 408 (0.001454)\n",
      "412. feature 258 (0.001454)\n",
      "413. feature 17 (0.001454)\n",
      "414. feature 173 (0.001451)\n",
      "415. feature 372 (0.001447)\n",
      "416. feature 368 (0.001447)\n",
      "417. feature 162 (0.001444)\n",
      "418. feature 148 (0.001444)\n",
      "419. feature 234 (0.001441)\n",
      "420. feature 334 (0.001439)\n",
      "421. feature 260 (0.001437)\n",
      "422. feature 127 (0.001434)\n",
      "423. feature 13 (0.001434)\n",
      "424. feature 375 (0.001433)\n",
      "425. feature 459 (0.001426)\n",
      "426. feature 97 (0.001425)\n",
      "427. feature 405 (0.001425)\n",
      "428. feature 65 (0.001423)\n",
      "429. feature 453 (0.001416)\n",
      "430. feature 269 (0.001412)\n",
      "431. feature 180 (0.001409)\n",
      "432. feature 109 (0.001405)\n",
      "433. feature 35 (0.001403)\n",
      "434. feature 265 (0.001402)\n",
      "435. feature 39 (0.001399)\n",
      "436. feature 21 (0.001393)\n",
      "437. feature 480 (0.001388)\n",
      "438. feature 268 (0.001387)\n",
      "439. feature 410 (0.001385)\n",
      "440. feature 284 (0.001383)\n",
      "441. feature 474 (0.001377)\n",
      "442. feature 100 (0.001374)\n",
      "443. feature 344 (0.001365)\n",
      "444. feature 225 (0.001365)\n",
      "445. feature 377 (0.001362)\n",
      "446. feature 468 (0.001358)\n",
      "447. feature 396 (0.001356)\n",
      "448. feature 463 (0.001355)\n",
      "449. feature 193 (0.001349)\n",
      "450. feature 7 (0.001346)\n",
      "451. feature 274 (0.001342)\n",
      "452. feature 214 (0.001338)\n",
      "453. feature 42 (0.001332)\n",
      "454. feature 68 (0.001331)\n",
      "455. feature 112 (0.001326)\n",
      "456. feature 106 (0.001326)\n",
      "457. feature 15 (0.001326)\n",
      "458. feature 249 (0.001324)\n",
      "459. feature 423 (0.001319)\n",
      "460. feature 317 (0.001317)\n",
      "461. feature 11 (0.001316)\n",
      "462. feature 280 (0.001311)\n",
      "463. feature 392 (0.001307)\n",
      "464. feature 46 (0.001303)\n",
      "465. feature 12 (0.001295)\n",
      "466. feature 331 (0.001279)\n",
      "467. feature 407 (0.001279)\n",
      "468. feature 217 (0.001278)\n",
      "469. feature 389 (0.001272)\n",
      "470. feature 349 (0.001265)\n",
      "471. feature 338 (0.001250)\n",
      "472. feature 142 (0.001247)\n",
      "473. feature 266 (0.001211)\n",
      "474. feature 382 (0.001209)\n",
      "475. feature 192 (0.001182)\n",
      "476. feature 239 (0.001181)\n",
      "477. feature 302 (0.001166)\n",
      "478. feature 455 (0.001163)\n",
      "479. feature 155 (0.001160)\n",
      "480. feature 295 (0.001160)\n",
      "481. feature 59 (0.001150)\n",
      "482. feature 471 (0.001140)\n",
      "483. feature 404 (0.001133)\n",
      "484. feature 437 (0.001128)\n",
      "485. feature 418 (0.001123)\n",
      "486. feature 242 (0.001081)\n",
      "487. feature 1 (0.001080)\n",
      "488. feature 290 (0.001076)\n",
      "489. feature 399 (0.001064)\n",
      "490. feature 252 (0.001021)\n",
      "491. feature 22 (0.001008)\n",
      "492. feature 222 (0.000813)\n",
      "493. feature 103 (0.000776)\n",
      "494. feature 491 (0.000733)\n",
      "495. feature 62 (0.000011)\n",
      "496. feature 90 (0.000000)\n",
      "497. feature 71 (0.000000)\n",
      "498. feature 139 (0.000000)\n",
      "499. feature 292 (0.000000)\n",
      "500. feature 373 (0.000000)\n"
     ]
    }
   ],
   "source": [
    "importances = rf.feature_importances_\n",
    "indices = np.argsort(importances)[::-1]\n",
    "\n",
    "# Print the feature ranking\n",
    "print(\"Feature ranking:\")\n",
    "\n",
    "for f in range((X_tr_trans.shape[1])):\n",
    "    print(\"%d. feature %d (%f)\" % (f + 1, indices[f], importances[indices[f]]))"
   ]
  },
  {
   "cell_type": "markdown",
   "metadata": {},
   "source": [
    "### ========== Question 1.19 ==========\n",
    "Next, we would like to test out the performance of support vector classification and experiment with different kernels. \n",
    "By using training data only and default parameter settings, train three support vector classifiers with the following kernels: linear, radial basis function, and polynomial. Report the classification accuracy of each of the three classifiers on both the training and validation sets."
   ]
  },
  {
   "cell_type": "code",
   "execution_count": 24,
   "metadata": {
    "collapsed": false
   },
   "outputs": [
    {
     "name": "stdout",
     "output_type": "stream",
     "text": [
      "0.842331581462\n",
      "0.842331581462\n",
      "0.910654562828\n",
      "0.910654562828\n",
      "0.990922121357\n",
      "0.990922121357\n"
     ]
    }
   ],
   "source": [
    "# Your code goes here\n",
    "sv1 = SVC(kernel='linear')\n",
    "sv2 = SVC(kernel='rbf')\n",
    "sv3 = SVC(kernel= 'poly')\n",
    "\n",
    "sv1.fit(X_tr_trans, y_tr)\n",
    "sv2.fit(X_tr_trans, y_tr)\n",
    "sv3.fit(X_tr_trans, y_tr)\n",
    "\n",
    "print(sv1.score(X_tr_trans, y_tr))\n",
    "print(sv1.score(X_val_trans, y_val))\n",
    "print(sv2.score(X_tr_trans, y_tr))\n",
    "print(sv2.score(X_val_trans, y_val))\n",
    "print(sv3.score(X_tr_trans, y_tr))\n",
    "print(sv3.score(X_val_trans, y_val))"
   ]
  },
  {
   "cell_type": "markdown",
   "metadata": {},
   "source": [
    "### ========== Question 1.20 ==========\n",
    "At this point, we would like to get an idea of what kind of decision boundaries we can get with the three types of SVM kernels we introduced in the previous question. For visualisation, however, we can only make use of 2D input data. For this purpose, we select to use the 21st and 76th columns of our training features (*hint: remember that Python uses 0-based indexing*). \n",
    "\n",
    "Execute the cell below to define a useful function which we will be using to plot the decision boundaries *(it is also not a bad idea to try to understand what this functions does)*. \n",
    "\n",
    "Then train three distinct SVM classifiers by using the 2D input data mentioned above and default parameters:\n",
    "* a linear SVC\n",
    "* an RBF SVC \n",
    "* a polynomial SVC\n",
    "\n",
    "Finally, create a list containing the three classifiers you have just trained. Use this list as an input to the provided function along with the used training features and observe the outcome. You can use the additional `title` parameter to set the titles in the subplots. Comment on the results by using 1-2 sentences.\n",
    "\n",
    "*(Acknowledgement: this Question has been heavily based on [this example](http://scikit-learn.org/0.17/auto_examples/svm/plot_iris.html) from scikit-learn's documentation.)*"
   ]
  },
  {
   "cell_type": "code",
   "execution_count": 88,
   "metadata": {
    "collapsed": true
   },
   "outputs": [],
   "source": [
    "def show_svc_decision_boundaries(clfs, X, title=None):\n",
    "    \"\"\"Plots decision boundaries for classifiers with 2D inputs.\n",
    "    \n",
    "    Parameters\n",
    "    ----------\n",
    "    clf : list\n",
    "        Classifiers for which decision boundaries will be displayed.\n",
    "    X : array\n",
    "        Input features used to train the classifiers.\n",
    "    title : list, optional\n",
    "        Titles for classifiers.\n",
    "    \n",
    "    \"\"\"\n",
    "    \n",
    "    assert X.shape[1] == 2 # Input should be 2D\n",
    "    if title is not None:\n",
    "        assert len(clfs) == len(title)\n",
    "    \n",
    "    h = .04 # step size in the mesh\n",
    "    x_min, x_max = X[:, 0].min() - 1, X[:, 0].max() + 1\n",
    "    y_min, y_max = X[:, 1].min() - 1, X[:, 1].max() + 1\n",
    "    xx, yy = np.meshgrid(np.arange(x_min, x_max, h),\n",
    "                         np.arange(y_min, y_max, h))\n",
    "    plt.figure(figsize=(15,5))\n",
    "    for i, clf in enumerate(clfs):\n",
    "        plt.subplot(1, len(clfs), i + 1)\n",
    "        plt.subplots_adjust(wspace=0.4, hspace=0.4)\n",
    "        Z = clf.predict(np.c_[xx.ravel(), yy.ravel()])\n",
    "        Z = Z.reshape(xx.shape)\n",
    "        plt.contourf(xx, yy, Z, cmap=plt.cm.Paired, alpha=0.8)\n",
    "        # Training points\n",
    "        plt.scatter(X[:, 0], X[:, 1], c=y_tr, cmap=plt.cm.Paired)\n",
    "        plt.xlabel('Feature 1')\n",
    "        plt.ylabel('Feature 2')\n",
    "        plt.xlim(xx.min(), xx.max())\n",
    "        plt.ylim(yy.min(), yy.max())\n",
    "        plt.xticks(())\n",
    "        plt.yticks(())\n",
    "        if title is not None:\n",
    "            plt.title(title[i])"
   ]
  },
  {
   "cell_type": "code",
   "execution_count": null,
   "metadata": {
    "collapsed": false
   },
   "outputs": [],
   "source": []
  },
  {
   "cell_type": "code",
   "execution_count": 130,
   "metadata": {
    "collapsed": false
   },
   "outputs": [
    {
     "name": "stdout",
     "output_type": "stream",
     "text": [
      "(2093, 2)\n"
     ]
    },
    {
     "data": {
      "image/png": "[encoded data removed]",
      "text/plain": [
       "<matplotlib.figure.Figure at 0x112a5bc50>"
      ]
     },
     "metadata": {},
     "output_type": "display_data"
    }
   ],
   "source": [
    "# Your code goes here\n",
    "\n",
    "X_t = X_tr_trans[:,[20,75]]\n",
    "\n",
    "\n",
    "\n",
    "print(np.shape(X_t))\n",
    "sv4 = SVC(kernel='linear').fit(X_t, y_tr)\n",
    "sv5 = SVC(kernel='rbf').fit(X_t, y_tr)\n",
    "sv6 = SVC(kernel= 'poly').fit(X_t, y_tr)\n",
    "svList = [sv4, sv5, sv6]\n",
    "\n",
    "titles = ['SVC with linear kernel',\n",
    "          'SVC with RBF kernel',\n",
    "          'SVC with polynomial kernel']\n",
    "\n",
    "show_svc_decision_boundaries(svList, X_t, title=titles)"
   ]
  },
  {
   "cell_type": "markdown",
   "metadata": {},
   "source": [
    "The polynomial kernel includes more data points than the others. The linear kernel and RBF have very similar outcomes. \n",
    "\n"
   ]
  },
  {
   "cell_type": "markdown",
   "metadata": {},
   "source": [
    "### ========== Question 1.21 ==========\n",
    "So far we have used default parameters for training the SVM classifiers. Now we want to tune the parameters by using cross-validation. \n",
    "\n",
    "By using the `K-fold` iterator from Question 1.11 and training data only, estimate the classification accuracy of an SVM classifier with RBF kernel, while you vary the penalty parameter `C` in a logarithmic range `np.logspace(-2, 3, 10)`. Set the kernel coefficient parameter `gamma` to `auto` for this question. \n",
    "\n",
    "Plot the mean cross-validated classification accuracy against the regularisation parameter `C` by using a log-scale for the x-axis. Display the highest obtained mean accuracy score and the value of `C` which yielded it. Label axes appropriately. \n",
    "\n",
    "Finally, train a classifier by using the optimal value for this parameter (without using cross-validation at this stage) and report the classification accuracy on the training and validation sets. "
   ]
  },
  {
   "cell_type": "code",
   "execution_count": 131,
   "metadata": {
    "collapsed": false
   },
   "outputs": [
    {
     "name": "stdout",
     "output_type": "stream",
     "text": [
      "[[ 0.     1.     0.     1.     0.     0.     0.     0.     0.     1.     0.\n",
      "   0.     0.     0.     0.     0.     0.     0.     0.     0.   ]\n",
      " [ 0.     0.     0.     0.     0.     0.     0.     0.946  0.     0.     0.\n",
      "   0.     0.     0.     0.     0.     0.     0.     0.     0.   ]\n",
      " [ 0.     0.     0.     0.     0.     0.     0.     0.     0.     0.     0.\n",
      "   0.     0.     0.     0.     0.     0.     0.     0.     0.   ]]\n",
      "[0.0, 0.33333333333333331, 0.0, 0.33333333333333331, 0.0, 0.0, 0.0, 0.31536926147704591, 0.0, 0.33333333333333331, 0.0, 0.0, 0.0, 0.0, 0.0, 0.0, 0.0, 0.0, 0.0, 0.0]\n",
      "0.333333333333\n"
     ]
    },
    {
     "data": {
      "image/png": "[encoded data removed]",
      "text/plain": [
       "<matplotlib.figure.Figure at 0x10a310a50>"
      ]
     },
     "metadata": {},
     "output_type": "display_data"
    }
   ],
   "source": [
    "# Your code goes here\n",
    "C = np.logspace(start=-2, stop=3, num=10)\n",
    "kf = KFold(500, n_folds=3, shuffle=True, random_state=0)\n",
    "score_array = np.empty((3, 20))\n",
    "\n",
    "for train, test in kf:\n",
    "    X_train, X_test = X_tr_trans[train], X_tr_trans[test]\n",
    "    y_train, y_test = y_tr[train], y_tr[test]\n",
    "    fold = 0\n",
    "    for c in C:\n",
    "        count = 1\n",
    "        svR = SVC(C = c, kernel= 'rbf', gamma='auto').fit(X_tr_trans, y_tr)\n",
    "        svR.fit(X_train, y_train)\n",
    "        score_array[fold, count] = svR.score(X_train, y_train)\n",
    "        count = count + 1\n",
    "        \n",
    "    fold = fold + 1\n",
    "        \n",
    "print(score_array)\n",
    "\n",
    "\n",
    "x = []\n",
    "columns = 20\n",
    "rows = 3\n",
    "for j in range(columns):\n",
    "     for i in range(rows):\n",
    "        x.append(score_array[i][j])\n",
    "\n",
    "y = np.array_split(x, 20)\n",
    "arr_mean = []\n",
    "for z in y:\n",
    "    arr_mean.append(np.mean(z))\n",
    "    \n",
    "print(arr_mean)\n",
    "print(np.max(arr_mean))\n",
    "ax = plt.semilogx(x = arr_mean, y = C)\n"
   ]
  },
  {
   "cell_type": "code",
   "execution_count": 114,
   "metadata": {
    "collapsed": false
   },
   "outputs": [
    {
     "name": "stdout",
     "output_type": "stream",
     "text": [
      "[1]\n",
      "The optimal value in Score array is [1]\n",
      "The optimal C parameter is: 0.035938136638\n",
      "Classification accuracy on training set: 0.636\n",
      "Classification accuracy on validation set: 0.636\n"
     ]
    }
   ],
   "source": [
    "m = max(arr_mean)\n",
    "a = ([i for i, j in enumerate(arr_mean) if j == m])\n",
    "print(a)\n",
    "print(\"The optimal value in Score array is\", a) #a is 1.0\n",
    "#print(score_array)#1.0 is the second digit of the first fold\n",
    "print(\"The optimal C parameter is:\", C[1]) #so the second C parameter is the opitmal value\n",
    "sv = SVC(C = C[1], kernel= 'rbf', gamma='auto').fit(X_tr_trans, y_tr)\n",
    "print('Classification accuracy on training set: {:.3f}'.format(sv.score(X_tr_trans, y_tr)))\n",
    "print('Classification accuracy on validation set: {:.3f}'.format(sv.score(X_val_trans, y_val)))"
   ]
  },
  {
   "cell_type": "markdown",
   "metadata": {},
   "source": [
    "### ========== Question 1.22 ==========\n",
    "Now we turn to the kernel coefficient `gamma` parameter. By using the same procedure as in the previous question, estimate the classification accuracy of an SVM classifier with RBF kernel while you vary the `gamma` parameter in a logarithmic range `logspace(-5, 0, 10)`. Fix the penalty parameter `C=1.0`.\n",
    "\n",
    "Plot the mean cross-validated classification accuracy against the parameter `gamma` by using a log-scale for the x-axis. Display the highest obtained mean accuracy score and the value of `gamma` which yielded it.  Label axes appropriately.\n",
    "\n",
    "Finally, train a classifier by using the optimal value for this parameter (without using cross-validation at this stage) and report the classification accuracy on the training and validation sets. "
   ]
  },
  {
   "cell_type": "code",
   "execution_count": 121,
   "metadata": {
    "collapsed": false
   },
   "outputs": [
    {
     "name": "stdout",
     "output_type": "stream",
     "text": [
      "[[  0.000e+000   1.000e+000   0.000e+000   1.000e+000   2.202e-314\n",
      "    0.000e+000   0.000e+000   0.000e+000   0.000e+000   9.461e-001\n",
      "    0.000e+000   0.000e+000   0.000e+000   0.000e+000   1.750e-060\n",
      "    0.000e+000   0.000e+000   2.134e-314   0.000e+000   2.202e-314]\n",
      " [  0.000e+000   0.000e+000   1.749e-060   0.000e+000   0.000e+000\n",
      "    0.000e+000   0.000e+000   1.000e+000   0.000e+000   0.000e+000\n",
      "    0.000e+000   2.134e-314   0.000e+000   0.000e+000   0.000e+000\n",
      "    0.000e+000  -9.245e+255   0.000e+000   0.000e+000   0.000e+000]\n",
      " [  0.000e+000   2.202e-314   0.000e+000   0.000e+000   0.000e+000\n",
      "    0.000e+000   2.134e-314   0.000e+000   0.000e+000   2.202e-314\n",
      "    0.000e+000   1.992e-060   0.000e+000   0.000e+000   2.372e-322\n",
      "    0.000e+000   0.000e+000   0.000e+000   0.000e+000   0.000e+000]]\n",
      "[0.0, 0.33333333333333331, 5.8287667619416298e-61, 0.33333333333333331, 7.3400162435164942e-315, 0.0, 7.1147969178660643e-315, 0.33333333333333331, 0.0, 0.31536926147704591, 0.0, 6.6393807576169669e-61, 0.0, 0.0, 5.8317217432795581e-61, 0.0, -3.0816364459830212e+255, 7.1147967202398059e-315, 0.0, 7.3400181407285742e-315]\n",
      "0.333333333333\n",
      "[1, 3, 7]\n",
      "The optimal value in Score array is [1, 3, 7]\n",
      "The optimal C parameter is: 0.035938136638\n",
      "Classification accuracy on training set: 0.636\n",
      "Classification accuracy on validation set: 0.636\n"
     ]
    },
    {
     "data": {
      "image/png": "[encoded data removed]",
      "text/plain": [
       "<matplotlib.figure.Figure at 0x10c8352d0>"
      ]
     },
     "metadata": {},
     "output_type": "display_data"
    }
   ],
   "source": [
    "# Your code goes here\n",
    "G = np.logspace(start=-5, stop=0, num=10)\n",
    "kf = KFold(500, n_folds=3, shuffle=True, random_state=0)\n",
    "score_array = np.empty((3, 20))\n",
    "\n",
    "for train, test in kf:\n",
    "    X_train, X_test = X_tr_trans[train], X_tr_trans[test]\n",
    "    y_train, y_test = y_tr[train], y_tr[test]\n",
    "    fold = 0\n",
    "    for g in G:\n",
    "        count = 1\n",
    "        svG = SVC(C = 1.0, kernel= 'rbf', gamma=g).fit(X_tr_trans, y_tr)\n",
    "        svG.fit(X_train, y_train)\n",
    "        score_array[fold, count] = svG.score(X_train, y_train)\n",
    "        count = count + 1\n",
    "        \n",
    "    fold = fold + 1\n",
    "        \n",
    "print(score_array)\n",
    "\n",
    "x = []\n",
    "columns = 20\n",
    "rows = 3\n",
    "for j in range(columns):\n",
    "     for i in range(rows):\n",
    "        x.append(score_array[i][j])\n",
    "\n",
    "y = np.array_split(x, 20)\n",
    "arr_mean = []\n",
    "for z in y:\n",
    "    arr_mean.append(np.mean(z))\n",
    "    \n",
    "print(arr_mean)\n",
    "print(np.max(arr_mean))\n",
    "ax = plt.semilogx(x = arr_mean, y = C)\n",
    "\n",
    "m = max(arr_mean)\n",
    "a = ([i for i, j in enumerate(arr_mean) if j == m])\n",
    "print(a)\n",
    "print(\"The optimal value in Score array is\", a)\n",
    "print(\"The optimal C parameter is:\", C[1]) #so the second C parameter is the opitmal value\n",
    "svC = SVC(C = C[1], kernel= 'rbf', gamma='auto').fit(X_tr_trans, y_tr)\n",
    "print('Classification accuracy on training set: {:.3f}'.format(svC.score(X_tr_trans, y_tr)))\n",
    "print('Classification accuracy on validation set: {:.3f}'.format(svC.score(X_val_trans, y_val)))"
   ]
  },
  {
   "cell_type": "markdown",
   "metadata": {},
   "source": [
    "### ========== Question 1.23 ==========\n",
    "Now we wish to tune both the `C` and `gamma` parameters simultaneously. To save computational time, we will now constrain the parameter search space. Define a `4 X 4` grid for the two parameters, as follows:\n",
    "* `C`: `np.logspace(-2, 1, 4)`\n",
    "* `gamma`: `np.logspace(-4, -1, 4)`\n",
    "\n",
    "Estimate the mean cross-validated classification accuracy by using training data only and all possible configurations for the two parameters. \n",
    "\n",
    "Use a [heatmap](https://seaborn.github.io/generated/seaborn.heatmap.html?highlight=heatmap#seaborn.heatmap) to visualise the mean cross-validated classification accuracy for all `C`-`gamma` pairs. Label axes appropriately and display the values for `C` and `gamma` for the best performing configuration. \n",
    "\n",
    "Finally, by using the optimal configuration, train a classifier (without using cross-validation) and report the classification accuracy on the training and validation sets."
   ]
  },
  {
   "cell_type": "code",
   "execution_count": 208,
   "metadata": {
    "collapsed": false
   },
   "outputs": [
    {
     "name": "stdout",
     "output_type": "stream",
     "text": [
      "[[0, 0, 0, 0], [0, 0, 0, 0]]\n",
      "[  0.01   0.1    1.    10.  ]\n",
      "[ 0.     0.001  0.01   0.1  ]\n"
     ]
    },
    {
     "ename": "IndexError",
     "evalue": "invalid index to scalar variable.",
     "output_type": "error",
     "traceback": [
      "\u001b[0;31m---------------------------------------------------------------------------\u001b[0m",
      "\u001b[0;31mIndexError\u001b[0m                                Traceback (most recent call last)",
      "\u001b[0;32m<ipython-input-208-0a535380e085>\u001b[0m in \u001b[0;36m<module>\u001b[0;34m()\u001b[0m\n\u001b[1;32m     10\u001b[0m \u001b[0;32mfor\u001b[0m \u001b[0mj\u001b[0m \u001b[0;32min\u001b[0m \u001b[0mrange\u001b[0m\u001b[0;34m(\u001b[0m\u001b[0mcolumns\u001b[0m\u001b[0;34m)\u001b[0m\u001b[0;34m:\u001b[0m\u001b[0;34m\u001b[0m\u001b[0m\n\u001b[1;32m     11\u001b[0m      \u001b[0;32mfor\u001b[0m \u001b[0mi\u001b[0m \u001b[0;32min\u001b[0m \u001b[0mrange\u001b[0m\u001b[0;34m(\u001b[0m\u001b[0mrows\u001b[0m\u001b[0;34m)\u001b[0m\u001b[0;34m:\u001b[0m\u001b[0;34m\u001b[0m\u001b[0m\n\u001b[0;32m---> 12\u001b[0;31m         \u001b[0mz\u001b[0m\u001b[0;34m[\u001b[0m\u001b[0mi\u001b[0m\u001b[0;34m]\u001b[0m\u001b[0;34m[\u001b[0m\u001b[0mj\u001b[0m\u001b[0;34m]\u001b[0m\u001b[0;34m=\u001b[0m \u001b[0mm1\u001b[0m\u001b[0;34m[\u001b[0m\u001b[0mi\u001b[0m\u001b[0;34m]\u001b[0m\u001b[0;34m[\u001b[0m\u001b[0mj\u001b[0m\u001b[0;34m]\u001b[0m\u001b[0;34m+\u001b[0m\u001b[0mm2\u001b[0m\u001b[0;34m[\u001b[0m\u001b[0mi\u001b[0m\u001b[0;34m]\u001b[0m\u001b[0;34m[\u001b[0m\u001b[0mj\u001b[0m\u001b[0;34m]\u001b[0m\u001b[0;34m\u001b[0m\u001b[0m\n\u001b[0m",
      "\u001b[0;31mIndexError\u001b[0m: invalid index to scalar variable."
     ]
    }
   ],
   "source": [
    "m1 = np.logspace(-2, 1, 4)\n",
    "m2 = np.logspace(-4, -1, 4)\n",
    "\n",
    "print(m3)\n",
    "print(m1)\n",
    "print(m2)\n",
    "z = [4*[0] for i in range(2)]\n",
    "columns = 4\n",
    "rows = 2\n",
    "for j in range(columns):\n",
    "     for i in range(rows):\n",
    "        z[i][j]= m1[i][j]+m2[i][j]"
   ]
  },
  {
   "cell_type": "markdown",
   "metadata": {},
   "source": [
    "### ========== Question 1.24 ==========\n",
    "Is the classification accuracy on the validation set higher than in previous questions (1.22-1.23)? If not, can you explain why? Can you think of a way of further improving the performance of the classifier? You don't need to implement your suggestion at this stage. Would there be any associated problems with your suggested approach? "
   ]
  },
  {
   "cell_type": "markdown",
   "metadata": {},
   "source": [
    "*Your answer goes here*\n",
    "\n"
   ]
  },
  {
   "cell_type": "markdown",
   "metadata": {},
   "source": [
    "### ========== Question 1.25 ==========\n",
    "Now we want to evaluate the performance of an SVM classifier with polynomial kernel. Once again, we will tune the `degree` parameter by using cross-validation (similarly to what we did in Questions 1.21 and 1.22).\n",
    "\n",
    "By using the `K-fold` iterator from Question 1.11 and training data only, estimate the classification accuracy of polynomial SVM classifier, while you vary the `degree` parameter in the range `np.arange(1,8)`. \n",
    "\n",
    "Plot the mean cross-validated classification accuracy against the polynomial degree. Display the highest obtained mean accuracy score and the value of the `degree` parameter which yielded it. Label axes appropriately. \n",
    "\n",
    "Finally, train a classifier by using the optimal value for this parameter (without using cross-validation at this stage) and report the classification accuracy on the training and validation sets. "
   ]
  },
  {
   "cell_type": "code",
   "execution_count": null,
   "metadata": {
    "collapsed": false
   },
   "outputs": [],
   "source": [
    "# Your code goes here\n"
   ]
  },
  {
   "cell_type": "markdown",
   "metadata": {},
   "source": [
    "### ========== Question 1.26 ==========\n",
    "\n",
    "You might have noticted that so far, we have used cross-validation for optimising the various tuning parameters (e.g. regularisation parameter in logistic regression, SVM kernel parameters) rather than hold-out validation, although we did have access to a validation set. Why do you think this is a good/bad idea? Give one advantage and one disadvantage of the two different approaches. Which one would you trust more in practice?"
   ]
  },
  {
   "cell_type": "markdown",
   "metadata": {},
   "source": [
    "I think it is a good idea to use SVM over hold out because SVM avoids overfitting and can build your own kernel with specific parameters. However, it depends on what model you select and is sensitive to parameters given.\n",
    "Hold out has a lot of variance meaning it depends on what values end up in which set. \n",
    "I would trust the SVM more than Hold Out.\n",
    "\n"
   ]
  },
  {
   "cell_type": "markdown",
   "metadata": {},
   "source": [
    "### ========== Question 1.27 ==========\n",
    "\n",
    "Reload the full training and validation data that contain all indicator variables for all object categories. Remove the `imgId` attribute but keep all of the class indicator variables in the dataset this time. Your training features should include all attributes except `is_person` which should be your target variable. \n",
    "\n",
    "Once again, use a [StandardScaler](http://scikit-learn.org/0.17/modules/generated/sklearn.preprocessing.StandardScaler.html) to standardise your training and validation features. Then train a Random Forest Classifier by using the entropy `criterion`, 500 `n_estimators`, and also set the `random_state` to 31. Report the classification accuracy on the training and validation sets.\n",
    "\n",
    "Similarly to what we did in Question 1.18, order the features by decreasing importance and display the 50 most important features. \n",
    "\n",
    "Finally, answer the following questions:\n",
    "* What do you notice by looking at the list of the best 50 features?\n",
    "* How does the performance differ with respect to the case when the additional class indicator variables are not present (Question 1.16)? Relate your observations to the observed feature ranking.\n",
    "* Would it be easy to make use of the results in practice? Briey explain your reasoning.\n",
    "\n",
    "*(Hint: you might want to look at some of the [images](http://www.inf.ed.ac.uk/teaching/courses/iaml/2014/assts/asst3/images.html) to justify your explanations.)*"
   ]
  },
  {
   "cell_type": "code",
   "execution_count": 51,
   "metadata": {
    "collapsed": false
   },
   "outputs": [],
   "source": [
    "# Your code goes here\n"
   ]
  },
  {
   "cell_type": "markdown",
   "metadata": {},
   "source": [
    "*Your answer goes here*\n",
    "\n"
   ]
  },
  {
   "cell_type": "markdown",
   "metadata": {},
   "source": [
    "## Mini challenge [30%]"
   ]
  },
  {
   "cell_type": "markdown",
   "metadata": {},
   "source": [
    "*Important: You are allowed to write up to a maximum of 600 words in this part of the assignment. The thoroughness of the exploration and the quality of the resulting discussion is just as important as the final classification performance of your chosen method(s) and credit will be divided accordingly.*"
   ]
  },
  {
   "cell_type": "markdown",
   "metadata": {},
   "source": [
    "In this final part of the assignment we will have a mini object-recognition challenge. Using the data provided you are asked to find the best classiffier for the person/no person classification task. You can apply any preprocessing steps to the data that you think fit and employ any classiffier you like (with the provison that you can explain what the classiffier/preprocessing steps are doing). You can also employ any lessons learnt during the course, either from previous Assignments, the Labs or the lecture material to try and squeeze out as much performance as you possibly can. The only restriction is that all steps must be performed in `Python` by using the `numpy`, `pandas` and `sklearn` packages. You can also make use of `matplotlib` and `seaborn` for visualisation. "
   ]
  },
  {
   "cell_type": "markdown",
   "metadata": {},
   "source": [
    "**Important:** The classification performance metric that we will use for this part is the *cross-entropy* or *logarithmic loss* (see Lab 4). You should familiarise yourself with the metric by reading the `sklearn` [user guide](http://scikit-learn.org/0.17/modules/model_evaluation.html#log-loss) and [documentation](http://scikit-learn.org/0.17/modules/generated/sklearn.metrics.log_loss.html#sklearn.metrics.log_loss). To estimate this metric you will need to evaluate probability outputs, as opposed to discrete predictions which we have used so far to compute classification accuracies. Most models in `sklearn` implement a `predict_proba()` method which returns the posterior probabilities for each class. For instance, if your test set consists of `N` datapoints and there are `K` classes, the method will return a `N` x `K` matrix."
   ]
  },
  {
   "cell_type": "markdown",
   "metadata": {},
   "source": [
    "We provide you with three new data sets: a training set (`train_images_partB.csv`), a validation set (`valid_images_partB.csv`), and a test set (`test_images_partB.csv`). You must use the former two for training and evaluating your models (as you see fit). Once you have chosen your favourite model (and pre-processing steps) you should apply it to the test set (for which no labels are provided). Estimate the posterior proabilities for the data points in the test set and submit your results as part of your answer. Your results will be evaluated in terms of the logarithmic loss metric. You also need to submit a brief description of the approaches you considered, your suggested final approach, and a short explanation of why you chose it. The thoroughness of the exploration and the quality of the resulting discussion is just as important as the final score of your chosen method(s) and credit will be divided accordingly.\n",
    "\n",
    "*Hint: Feature engineering, feature combination, model combination and model parameter optimization can significantly improve performance.*"
   ]
  },
  {
   "cell_type": "markdown",
   "metadata": {},
   "source": [
    "**How to submit your results**: Store the estimated posterior probabilities for the data points in the test set into a 2D numpy array. Then execute the provided cell at the end of this notebook which uses a provided `save_predictions` function to export your results into a `.txt` file (the function will return an error if the provided array has not the right shape). The `.txt` file will be saved where your notebook lives. You are then required to copy this file into your submission folder along with your notebook (see Mecanics section at the top of the notebook) and then submit the two files by using the `submit` command on DICE. You are only required to use the `submit` command once."
   ]
  },
  {
   "cell_type": "markdown",
   "metadata": {},
   "source": [
    "*Your answer goes here (max. 600 words)*\n",
    "\n"
   ]
  },
  {
   "cell_type": "code",
   "execution_count": 180,
   "metadata": {
    "collapsed": false
   },
   "outputs": [
    {
     "name": "stdout",
     "output_type": "stream",
     "text": [
      "Number of instances of train_B: 2113, number of attributes: 520\n",
      "Number of instances of valid_B: 1113, number of attributes: 520\n",
      "Number of instances of test_B: 1114, number of attributes: 501\n",
      "(2113, 500)\n",
      "(1113, 500)\n",
      "(2113,)\n",
      "(1113,)\n"
     ]
    }
   ],
   "source": [
    "data_path_t = os.path.join(os.getcwd(), 'datasets', 'train_images_partB.csv')\n",
    "train_B = pd.read_csv(data_path_t, delimiter = ',')\n",
    "data_path_v = os.path.join(os.getcwd(), 'datasets', 'valid_images_partB.csv')\n",
    "valid_B = pd.read_csv(data_path_v, delimiter = ',')\n",
    "data_path_test = os.path.join(os.getcwd(), 'datasets', 'test_images_partB.csv')\n",
    "test_B = pd.read_csv(data_path_test, delimiter = ',')\n",
    "\n",
    "print('Number of instances of train_B: {}, number of attributes: {}'.format(train_B.shape[0], train_B.shape[1]))\n",
    "print('Number of instances of valid_B: {}, number of attributes: {}'.format(valid_B.shape[0], valid_B.shape[1]))\n",
    "print('Number of instances of test_B: {}, number of attributes: {}'.format(test_B.shape[0], test_B.shape[1]))\n",
    "names_B = list(train_B.columns[1:501])\n",
    "X_tr_B, X_val_B, y_tr_B, y_val_B = train_B[names_B], valid_B[names_B], train_B[\"is_person\"], valid_B[\"is_person\"]\n",
    "print(X_tr_B.shape)\n",
    "print(X_val_B.shape)\n",
    "print(y_tr_B.shape)\n",
    "print(y_val_B.shape)\n",
    "\n"
   ]
  },
  {
   "cell_type": "code",
   "execution_count": 181,
   "metadata": {
    "collapsed": false
   },
   "outputs": [
    {
     "name": "stdout",
     "output_type": "stream",
     "text": [
      "Classification accuracy on training set: 0.549\n",
      "Classification accuracy on validation set: 0.527\n"
     ]
    }
   ],
   "source": [
    "lr_B = LogisticRegression(solver='lbfgs')\n",
    "lr_B.fit(X_tr_B, y_tr_B)\n",
    "lr_B.fit(X_val_B, y_val_B)\n",
    "print('Classification accuracy on training set: {:.3f}'.format(lr.score(X_tr_B, y_tr_B)))\n",
    "print('Classification accuracy on validation set: {:.3f}'.format(lr.score(X_val_B, y_val_B)))"
   ]
  },
  {
   "cell_type": "code",
   "execution_count": 182,
   "metadata": {
    "collapsed": false
   },
   "outputs": [
    {
     "name": "stdout",
     "output_type": "stream",
     "text": [
      "Training set mean:\n",
      "[-0.085 -0.085 -0.085 -0.085 -0.085]\n",
      "Training set standard deviation\n",
      "[ 0.004  0.005  0.005  0.005  0.005]\n",
      "Validation set mean:\n",
      "[-0.085 -0.085 -0.085 -0.085 -0.085]\n",
      "Validation set standard deviation\n",
      "[ 0.004  0.005  0.005  0.005  0.005]\n",
      "Classification accuracy on training set: 0.633\n",
      "Classification accuracy on validation set: 0.649\n"
     ]
    }
   ],
   "source": [
    "scaler = preprocessing.StandardScaler().fit(X_tr_B)\n",
    "X_tr_trans_B = (scaler.transform(X_tr_B))\n",
    "X_val_trans_B = (scaler.transform(X_val_B))\n",
    "\n",
    "print(\"Training set mean:\")\n",
    "print(X_tr_trans_B[0:5].mean(axis=1))\n",
    "print(\"Training set standard deviation\")\n",
    "print(X_tr_trans_B[0:5].std(axis=1))\n",
    "\n",
    "print(\"Validation set mean:\")\n",
    "print(X_val_trans_B[0:5].mean(axis=1))\n",
    "print(\"Validation set standard deviation\")\n",
    "print(X_val_trans_B[0:5].std(axis=1))\n",
    "\n",
    "lr_tr = LogisticRegression(solver='lbfgs')\n",
    "lr_tr.fit(X_tr_trans_B, y_tr_B)\n",
    "lr_tr.fit(X_val_trans_B, y_val_B)\n",
    "print('Classification accuracy on training set: {:.3f}'.format(lr_tr.score(X_tr_trans_B, y_tr_B)))\n",
    "print('Classification accuracy on validation set: {:.3f}'.format(lr_tr.score(X_val_trans_B, y_val_B)))\n"
   ]
  },
  {
   "cell_type": "code",
   "execution_count": 194,
   "metadata": {
    "collapsed": false
   },
   "outputs": [
    {
     "name": "stdout",
     "output_type": "stream",
     "text": [
      "(1114, 2)\n"
     ]
    }
   ],
   "source": [
    "names_B_test = list(test_B.columns[0:500])\n",
    "\n",
    "X_test_B = test_B[names_B_test]\n",
    "y_test_B = test_B[\"is_person\"]\n",
    "\n",
    "y_pred = lr_tr.predict_proba(X_test_B)\n",
    "\n",
    "y_pred_B = y_pred[0:1113]\n",
    "print(y_pred.shape)"
   ]
  },
  {
   "cell_type": "code",
   "execution_count": 187,
   "metadata": {
    "collapsed": false
   },
   "outputs": [
    {
     "name": "stdout",
     "output_type": "stream",
     "text": [
      "0.691960020293\n"
     ]
    }
   ],
   "source": [
    "from sklearn.metrics import log_loss\n",
    "logLoss = log_loss(y_val_B, y_pred_B)\n",
    "print(logLoss)\n"
   ]
  },
  {
   "cell_type": "code",
   "execution_count": 195,
   "metadata": {
    "collapsed": false
   },
   "outputs": [
    {
     "data": {
      "text/plain": [
       "(1114, 2)"
      ]
     },
     "execution_count": 195,
     "metadata": {},
     "output_type": "execute_result"
    }
   ],
   "source": [
    "y_pred.shape"
   ]
  },
  {
   "cell_type": "code",
   "execution_count": 196,
   "metadata": {
    "collapsed": false
   },
   "outputs": [],
   "source": [
    "# Execute this cell to export your results\n",
    "from numpy import savetxt\n",
    "def save_predictions(pred_proba):\n",
    "    if pred_proba.shape != (1114,2):\n",
    "        raise ValueError('Predicted probabilities array has not the right shape.')\n",
    "    \n",
    "    savetxt('assignment_3_predictions.txt', pred_proba)\n",
    "\n",
    "save_predictions(y_pred) # You need to replace \"pred_proba\" with the name of the array\n",
    "                             # which contains the probability estimates for the data in \n",
    "                             # the test set."
   ]
  },
  {
   "cell_type": "markdown",
   "metadata": {},
   "source": [
    "For this Mini Challenge, I trained the training and validation data using Logistic Regression. I used this classifier because it gave me the best results earlier in the lab. However, after training the data, I received an accuracy of 0.549 and 0.527. This is not a very good accuracy. So I transformed the data using StandardScaler(). After I scaled and transformed the data, the accuracy improved to 0.633 and 0.649.\n",
    "I then used this classifier to predict the testing data. After predicting the data, I got a log_loss of 0.692. \n",
    "After using this classifier and seeing the results, I would probably not use it again in this context. It did not give me the best results. I would use something like a SVC by varying the C value. \n",
    "\n",
    "\n"
   ]
  }
 ],
 "metadata": {
  "anaconda-cloud": {},
  "kernelspec": {
   "display_name": "Python 2",
   "language": "python",
   "name": "python2"
  },
  "language_info": {
   "codemirror_mode": {
    "name": "ipython",
    "version": 2
   },
   "file_extension": ".py",
   "mimetype": "text/x-python",
   "name": "python",
   "nbconvert_exporter": "python",
   "pygments_lexer": "ipython2",
   "version": "2.7.13"
  }
 },
 "nbformat": 4,
 "nbformat_minor": 0
}
